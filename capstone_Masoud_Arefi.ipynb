{
 "cells": [
  {
   "cell_type": "markdown",
   "id": "011a24c4",
   "metadata": {},
   "source": [
    "# Brainstation Capstone Project\n",
    "\n",
    "## Data Science Bootcamp: November 2023 - February 2024\n",
    "\n",
    "Welcome to my Capstone Project for the Brainstation Data Science Bootcamp. This project represents the culmination of intensive learning and hands-on experience in data science from November 2023 to February 2024.\n",
    "\n",
    "### Project Overview\n",
    "\n",
    "*Insert a brief description of capstone project.*\n",
    "\n",
    "- **Objective**: *Briefly state the main goal of project.*\n",
    "- **Key Challenges**: *Highlight any significant challenges expect to face or have faced during the project.*\n",
    "- **Technologies Used**: *List the technologies, programming languages, and tools will be use or have used in the project.*\n",
    "- **Expected Outcomes**: *Describe what aim to achieve with this project, both in terms of the project itself and personal development.*\n",
    "\n",
    "### Why This Project?\n",
    "\n",
    "* short paragraph explaining why chose this project, .*\n",
    "\n",
    "---\n",
    "\n",
    "Feel free to explore the different sections of this notebook to see the progress, analysis, and results of my capstone project. I appreciate any feedback or suggestions!\n"
   ]
  },
  {
   "cell_type": "markdown",
   "id": "1fdecbc0",
   "metadata": {},
   "source": [
    "# Masoud Arefi\n",
    "\n",
    "Welcome to my professional portfolio in Data Science. Below are links to my LinkedIn profile and GitHub repository where you can find my projects and contributions.\n",
    "\n",
    "## Connect with Me\n",
    "\n",
    "- [LinkedIn](https://www.linkedin.com/in/masoud-arefi/)\n",
    "- [GitHub](https://github.com/MaSOouD69/capstone-repo)\n",
    "\n",
    "### About Me\n",
    "\n",
    "I am a passionate data science professional with a keen interest in developing insightful data-driven solutions. My expertise lies in leveraging analytical tools and machine learning techniques to unravel complex data challenges.\n",
    "\n",
    "Feel free to explore my projects and reach out for collaborations or discussions!\n"
   ]
  },
  {
   "cell_type": "code",
   "execution_count": 3,
   "id": "22adc8e7",
   "metadata": {},
   "outputs": [],
   "source": [
    "# libraries import\n",
    "import numpy as np\n",
    "import pandas as pd\n",
    "import seaborn as sns\n",
    "\n",
    "import plotly.express as xp"
   ]
  },
  {
   "cell_type": "code",
   "execution_count": null,
   "id": "01a80d05",
   "metadata": {},
   "outputs": [],
   "source": []
  }
 ],
 "metadata": {
  "kernelspec": {
   "display_name": "Python 3",
   "language": "python",
   "name": "python3"
  },
  "language_info": {
   "codemirror_mode": {
    "name": "ipython",
    "version": 3
   },
   "file_extension": ".py",
   "mimetype": "text/x-python",
   "name": "python",
   "nbconvert_exporter": "python",
   "pygments_lexer": "ipython3",
   "version": "3.8.8"
  }
 },
 "nbformat": 4,
 "nbformat_minor": 5
}
