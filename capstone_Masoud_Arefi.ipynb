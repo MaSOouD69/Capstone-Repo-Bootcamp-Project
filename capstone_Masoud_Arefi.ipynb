{
 "cells": [
  {
   "cell_type": "markdown",
   "id": "011a24c4",
   "metadata": {},
   "source": [
    "# Brainstation Capstone Project\n",
    "\n",
    "## Data Science Bootcamp: November 2023 - February 2024\n",
    "\n",
    "Welcome to my Capstone Project for the Brainstation Data Science Bootcamp. This project represents the culmination of intensive learning and hands-on experience in data science from November 2023 to February 2024.\n",
    "\n",
    "# Project Overview\n",
    "\n",
    "## Project Description\n",
    "This capstone project is centered around developing a predictive analysis tool in medical data science, focusing on diseases like heart failure, stroke, diabetes, and cancer. The aim is to create a model that predicts the likelihood of these health conditions based on medical and demographic data.\n",
    "\n",
    "## Objective\n",
    "The primary goal is to leverage data science and machine learning to provide early warnings for critical health conditions, aiding in early diagnosis and improving patient outcomes.\n",
    "\n",
    "## Key Challenges\n",
    "- **Data Quality and Reliability**: Ensuring the datasets used are accurate and reliable.\n",
    "- **Model Accuracy and Validation**: Building models that are not only accurate but also clinically valid.\n",
    "- **Handling Imbalanced Data**: Dealing with the common issue of imbalanced datasets in medical data.\n",
    "- **Ethical Considerations**: Addressing data privacy and ethical concerns in predictive healthcare analytics.\n",
    "\n",
    "## Technologies Used\n",
    "- **Programming Languages**: Python, including libraries like Pandas, NumPy, and Scikit-learn.\n",
    "- **Data Visualization**: Using Matplotlib and Seaborn for insights visualization.\n",
    "- **Machine Learning Frameworks**: Exploring TensorFlow or PyTorch for advanced modeling.\n",
    "\n",
    "## Expected Outcomes\n",
    "- **Project**: A robust predictive model for disease risk assessment.\n",
    "- **Personal Development**: Improved expertise in data science and machine learning, with a focus on healthcare applications.\n",
    "\n",
    "## Why This Project?\n",
    "I am deeply interested in the convergence of data science and healthcare. This project offers the opportunity to impact patient care through predictive analytics, aligning with my passion for applying data science to solve real-world problems and enhancing my skills in this critical area.\n",
    "\n",
    "\n",
    "---\n",
    "\n",
    "Feel free to explore the different sections of this notebook to see the progress, analysis, and results of my capstone project. I appreciate any feedback or suggestions!\n"
   ]
  },
  {
   "cell_type": "markdown",
   "id": "1fdecbc0",
   "metadata": {},
   "source": [
    "# Masoud Arefi\n",
    "\n",
    "Welcome to my professional portfolio in Data Science. Below are links to my LinkedIn profile and GitHub repository where you can find my projects and contributions.\n",
    "\n",
    "## Connect with Me\n",
    "\n",
    "- [LinkedIn](https://www.linkedin.com/in/masoud-arefi/)\n",
    "- [GitHub](https://github.com/MaSOouD69/capstone-repo)\n",
    "\n",
    "### About Me\n",
    "\n",
    "I am a passionate data science professional with a keen interest in developing insightful data-driven solutions. My expertise lies in leveraging analytical tools and machine learning techniques to unravel complex data challenges.\n",
    "\n",
    "Feel free to explore my projects and reach out for collaborations or discussions!\n"
   ]
  },
  {
   "cell_type": "markdown",
   "id": "4960e9d6",
   "metadata": {},
   "source": [
    "# First Data set \n",
    "# Stroke Prediction and Analysis\n",
    "\n",
    "## Introduction\n",
    "\n",
    "Strokes significantly impact global health, with a surprising fact: 80% of strokes are preventable. This notebook explores key indicators leading to strokes, using data from diverse age groups, genders, habits, and health issues. Our visualizations aim to be intuitive, employing simple yet effective methods for conveying essential information.\n",
    "\n",
    "## Problem Statement\n",
    "\n",
    "Our goal is to visualize the relationships between various lifestyle habits and heart stroke occurrences. We aim to predict stroke probability using optimally tuned models, providing insights for preventive health measures.\n",
    "\n",
    "## Questions and Assumptions\n",
    "\n",
    "In this analysis, we will investigate several questions and assumptions:\n",
    "\n",
    "1. **Impact of Age**: Does age significantly influence stroke occurrence, and what is its distribution across populations?\n",
    "2. **BMI and Glucose Levels**: How do higher body mass index and glucose levels correlate with stroke risk?\n",
    "3. **Smoking and Stroke Risk**: Is there a strong link between smoking and increased stroke risk?\n",
    "4. **Heart Disease and Stroke**: How closely are existing heart diseases and stroke occurrences related?\n",
    "5. **Workload and Blood Pressure**: Can high workload and resultant blood pressure increases lead to strokes?\n",
    "6. **Gender-Specific Risks**: Are males more prone to strokes due to work-related stress, or do risks vary across genders?\n",
    "\n",
    "## Methodology\n",
    "\n",
    "- **Data Analysis**: Comprehensive examination of the dataset to understand feature distribution and relationships.\n",
    "- **Visualizations**: Using plots and charts to uncover patterns and insights.\n",
    "- **Statistical Testing**: Validating assumptions and hypotheses through statistical methods.\n",
    "- **Model Building**: Developing predictive models for stroke risk estimation.\n",
    "- **Feature Importance**: Identifying key factors that significantly influence stroke risk.\n",
    "- **Feature Selection**: Enhancing model accuracy by selecting relevant features.\n",
    "\n",
    "## Conclusion\n",
    "\n",
    "This notebook aims to provide a deeper understanding of the factors leading to strokes and their interplay, essential for developing preventive strategies and early interventions.\n"
   ]
  },
  {
   "cell_type": "code",
   "execution_count": 1,
   "id": "22adc8e7",
   "metadata": {},
   "outputs": [],
   "source": [
    "# libraries import\n",
    "import numpy as np  # Importing NumPy for numerical operations and array handling\n",
    "import pandas as pd  # Importing Pandas for data manipulation and analysis\n",
    "import seaborn as sns  # Importing Seaborn for statistical data visualization\n",
    "import matplotlib.pyplot as plt  # Importing Matplotlib for creating static plots\n",
    "import plotly.express as xp  # Importing Plotly Express for interactive plotting\n",
    "\n",
    "# Importing necessary libraries from scikit-learn\n",
    "from sklearn.model_selection import train_test_split  # For splitting data into training and test sets\n",
    "from sklearn.linear_model import LogisticRegression  # Importing Logistic Regression model for classification tasks\n",
    "from sklearn.metrics import accuracy_score, precision_score, recall_score, f1_score  # Importing various metrics to evaluate model performance\n",
    "\n",
    "from sklearn.preprocessing import MinMaxScaler, StandardScaler, RobustScaler  # Importing different scalers for data normalization and standardization\n",
    "\n",
    "# metrics\n",
    "from sklearn.metrics import confusion_matrix, roc_curve, roc_auc_score  # Additional metrics for model evaluation, especially for classification problems\n",
    "\n",
    "from sklearn.neighbors import KNeighborsClassifier  # Importing K-Nearest Neighbors classifier\n",
    "from sklearn.tree import DecisionTreeClassifier  # Importing Decision Tree classifier for decision tree models\n",
    "\n",
    "from imblearn.over_sampling import SMOTE  # Importing SMOTE for handling imbalanced datasets by oversampling\n",
    "\n",
    "from sklearn.svm import SVC  # Importing Support Vector Machine classifier\n"
   ]
  },
  {
   "cell_type": "code",
   "execution_count": 2,
   "id": "6c7cb8e7",
   "metadata": {},
   "outputs": [],
   "source": [
    "df = pd.read_csv('data/healthcare-dataset-stroke-data.csv')"
   ]
  },
  {
   "cell_type": "code",
   "execution_count": 3,
   "id": "01a80d05",
   "metadata": {},
   "outputs": [
    {
     "data": {
      "text/html": [
       "<div>\n",
       "<style scoped>\n",
       "    .dataframe tbody tr th:only-of-type {\n",
       "        vertical-align: middle;\n",
       "    }\n",
       "\n",
       "    .dataframe tbody tr th {\n",
       "        vertical-align: top;\n",
       "    }\n",
       "\n",
       "    .dataframe thead th {\n",
       "        text-align: right;\n",
       "    }\n",
       "</style>\n",
       "<table border=\"1\" class=\"dataframe\">\n",
       "  <thead>\n",
       "    <tr style=\"text-align: right;\">\n",
       "      <th></th>\n",
       "      <th>id</th>\n",
       "      <th>gender</th>\n",
       "      <th>age</th>\n",
       "      <th>hypertension</th>\n",
       "      <th>heart_disease</th>\n",
       "      <th>ever_married</th>\n",
       "      <th>work_type</th>\n",
       "      <th>Residence_type</th>\n",
       "      <th>avg_glucose_level</th>\n",
       "      <th>bmi</th>\n",
       "      <th>smoking_status</th>\n",
       "      <th>stroke</th>\n",
       "    </tr>\n",
       "  </thead>\n",
       "  <tbody>\n",
       "    <tr>\n",
       "      <th>0</th>\n",
       "      <td>9046</td>\n",
       "      <td>Male</td>\n",
       "      <td>67.0</td>\n",
       "      <td>0</td>\n",
       "      <td>1</td>\n",
       "      <td>Yes</td>\n",
       "      <td>Private</td>\n",
       "      <td>Urban</td>\n",
       "      <td>228.69</td>\n",
       "      <td>36.6</td>\n",
       "      <td>formerly smoked</td>\n",
       "      <td>1</td>\n",
       "    </tr>\n",
       "    <tr>\n",
       "      <th>1</th>\n",
       "      <td>51676</td>\n",
       "      <td>Female</td>\n",
       "      <td>61.0</td>\n",
       "      <td>0</td>\n",
       "      <td>0</td>\n",
       "      <td>Yes</td>\n",
       "      <td>Self-employed</td>\n",
       "      <td>Rural</td>\n",
       "      <td>202.21</td>\n",
       "      <td>NaN</td>\n",
       "      <td>never smoked</td>\n",
       "      <td>1</td>\n",
       "    </tr>\n",
       "    <tr>\n",
       "      <th>2</th>\n",
       "      <td>31112</td>\n",
       "      <td>Male</td>\n",
       "      <td>80.0</td>\n",
       "      <td>0</td>\n",
       "      <td>1</td>\n",
       "      <td>Yes</td>\n",
       "      <td>Private</td>\n",
       "      <td>Rural</td>\n",
       "      <td>105.92</td>\n",
       "      <td>32.5</td>\n",
       "      <td>never smoked</td>\n",
       "      <td>1</td>\n",
       "    </tr>\n",
       "    <tr>\n",
       "      <th>3</th>\n",
       "      <td>60182</td>\n",
       "      <td>Female</td>\n",
       "      <td>49.0</td>\n",
       "      <td>0</td>\n",
       "      <td>0</td>\n",
       "      <td>Yes</td>\n",
       "      <td>Private</td>\n",
       "      <td>Urban</td>\n",
       "      <td>171.23</td>\n",
       "      <td>34.4</td>\n",
       "      <td>smokes</td>\n",
       "      <td>1</td>\n",
       "    </tr>\n",
       "    <tr>\n",
       "      <th>4</th>\n",
       "      <td>1665</td>\n",
       "      <td>Female</td>\n",
       "      <td>79.0</td>\n",
       "      <td>1</td>\n",
       "      <td>0</td>\n",
       "      <td>Yes</td>\n",
       "      <td>Self-employed</td>\n",
       "      <td>Rural</td>\n",
       "      <td>174.12</td>\n",
       "      <td>24.0</td>\n",
       "      <td>never smoked</td>\n",
       "      <td>1</td>\n",
       "    </tr>\n",
       "  </tbody>\n",
       "</table>\n",
       "</div>"
      ],
      "text/plain": [
       "      id  gender   age  hypertension  heart_disease ever_married  \\\n",
       "0   9046    Male  67.0             0              1          Yes   \n",
       "1  51676  Female  61.0             0              0          Yes   \n",
       "2  31112    Male  80.0             0              1          Yes   \n",
       "3  60182  Female  49.0             0              0          Yes   \n",
       "4   1665  Female  79.0             1              0          Yes   \n",
       "\n",
       "       work_type Residence_type  avg_glucose_level   bmi   smoking_status  \\\n",
       "0        Private          Urban             228.69  36.6  formerly smoked   \n",
       "1  Self-employed          Rural             202.21   NaN     never smoked   \n",
       "2        Private          Rural             105.92  32.5     never smoked   \n",
       "3        Private          Urban             171.23  34.4           smokes   \n",
       "4  Self-employed          Rural             174.12  24.0     never smoked   \n",
       "\n",
       "   stroke  \n",
       "0       1  \n",
       "1       1  \n",
       "2       1  \n",
       "3       1  \n",
       "4       1  "
      ]
     },
     "execution_count": 3,
     "metadata": {},
     "output_type": "execute_result"
    }
   ],
   "source": [
    "df.head(5)"
   ]
  },
  {
   "cell_type": "code",
   "execution_count": 4,
   "id": "78cec616",
   "metadata": {},
   "outputs": [
    {
     "name": "stdout",
     "output_type": "stream",
     "text": [
      "<class 'pandas.core.frame.DataFrame'>\n",
      "RangeIndex: 5110 entries, 0 to 5109\n",
      "Data columns (total 12 columns):\n",
      " #   Column             Non-Null Count  Dtype  \n",
      "---  ------             --------------  -----  \n",
      " 0   id                 5110 non-null   int64  \n",
      " 1   gender             5110 non-null   object \n",
      " 2   age                5110 non-null   float64\n",
      " 3   hypertension       5110 non-null   int64  \n",
      " 4   heart_disease      5110 non-null   int64  \n",
      " 5   ever_married       5110 non-null   object \n",
      " 6   work_type          5110 non-null   object \n",
      " 7   Residence_type     5110 non-null   object \n",
      " 8   avg_glucose_level  5110 non-null   float64\n",
      " 9   bmi                4909 non-null   float64\n",
      " 10  smoking_status     5110 non-null   object \n",
      " 11  stroke             5110 non-null   int64  \n",
      "dtypes: float64(3), int64(4), object(5)\n",
      "memory usage: 479.2+ KB\n"
     ]
    }
   ],
   "source": [
    "df.info()"
   ]
  },
  {
   "cell_type": "code",
   "execution_count": 5,
   "id": "5878acd7",
   "metadata": {
    "scrolled": true
   },
   "outputs": [
    {
     "data": {
      "image/png": "[encoded data removed]",
      "text/plain": [
       "<Figure size 432x288 with 1 Axes>"
      ]
     },
     "metadata": {
      "needs_background": "light"
     },
     "output_type": "display_data"
    },
    {
     "data": {
      "image/png": "[encoded data removed]",
      "text/plain": [
       "<Figure size 432x288 with 1 Axes>"
      ]
     },
     "metadata": {
      "needs_background": "light"
     },
     "output_type": "display_data"
    },
    {
     "data": {
      "image/png": "[encoded data removed]",
      "text/plain": [
       "<Figure size 432x288 with 1 Axes>"
      ]
     },
     "metadata": {
      "needs_background": "light"
     },
     "output_type": "display_data"
    },
    {
     "data": {
      "image/png": "[encoded data removed]",
      "text/plain": [
       "<Figure size 432x288 with 1 Axes>"
      ]
     },
     "metadata": {
      "needs_background": "light"
     },
     "output_type": "display_data"
    },
    {
     "data": {
      "image/png": "[encoded data removed]",
      "text/plain": [
       "<Figure size 432x288 with 1 Axes>"
      ]
     },
     "metadata": {
      "needs_background": "light"
     },
     "output_type": "display_data"
    }
   ],
   "source": [
    "# Loop through each column and plot a histogram for each numeric columns\n",
    "for i in ['age','hypertension','heart_disease','avg_glucose_level','stroke']:\n",
    "    plt.figure()  # Create a new figure for each plot\n",
    "    df[i].plot(kind='hist')\n",
    "    plt.title(f'Histogram of {i}')\n",
    "    plt.show()  # Display the plot"
   ]
  },
  {
   "cell_type": "markdown",
   "id": "698e423b",
   "metadata": {},
   "source": [
    "From histogramof Stroke distribution it is clear that every 5 people out of 100 people are having strokes from our sampling data. Moreover,this is a highly unbalanced data distribution, and null accuracy score of this distribution it self is 95%, whcih imploys any dump model should randomly predictions of stroke could reach accuracy of 95%. So, while modeling and training data, either over sampling or under sampling has to be done to obtain best results."
   ]
  },
  {
   "cell_type": "code",
   "execution_count": 6,
   "id": "568bdcaf",
   "metadata": {
    "scrolled": true
   },
   "outputs": [
    {
     "data": {
      "text/html": [
       "<div>\n",
       "<style scoped>\n",
       "    .dataframe tbody tr th:only-of-type {\n",
       "        vertical-align: middle;\n",
       "    }\n",
       "\n",
       "    .dataframe tbody tr th {\n",
       "        vertical-align: top;\n",
       "    }\n",
       "\n",
       "    .dataframe thead th {\n",
       "        text-align: right;\n",
       "    }\n",
       "</style>\n",
       "<table border=\"1\" class=\"dataframe\">\n",
       "  <thead>\n",
       "    <tr style=\"text-align: right;\">\n",
       "      <th></th>\n",
       "      <th>gender</th>\n",
       "      <th>ever_married</th>\n",
       "      <th>work_type</th>\n",
       "      <th>Residence_type</th>\n",
       "      <th>smoking_status</th>\n",
       "    </tr>\n",
       "  </thead>\n",
       "  <tbody>\n",
       "    <tr>\n",
       "      <th>count</th>\n",
       "      <td>5110</td>\n",
       "      <td>5110</td>\n",
       "      <td>5110</td>\n",
       "      <td>5110</td>\n",
       "      <td>5110</td>\n",
       "    </tr>\n",
       "    <tr>\n",
       "      <th>unique</th>\n",
       "      <td>3</td>\n",
       "      <td>2</td>\n",
       "      <td>5</td>\n",
       "      <td>2</td>\n",
       "      <td>4</td>\n",
       "    </tr>\n",
       "    <tr>\n",
       "      <th>top</th>\n",
       "      <td>Female</td>\n",
       "      <td>Yes</td>\n",
       "      <td>Private</td>\n",
       "      <td>Urban</td>\n",
       "      <td>never smoked</td>\n",
       "    </tr>\n",
       "    <tr>\n",
       "      <th>freq</th>\n",
       "      <td>2994</td>\n",
       "      <td>3353</td>\n",
       "      <td>2925</td>\n",
       "      <td>2596</td>\n",
       "      <td>1892</td>\n",
       "    </tr>\n",
       "  </tbody>\n",
       "</table>\n",
       "</div>"
      ],
      "text/plain": [
       "        gender ever_married work_type Residence_type smoking_status\n",
       "count     5110         5110      5110           5110           5110\n",
       "unique       3            2         5              2              4\n",
       "top     Female          Yes   Private          Urban   never smoked\n",
       "freq      2994         3353      2925           2596           1892"
      ]
     },
     "execution_count": 6,
     "metadata": {},
     "output_type": "execute_result"
    }
   ],
   "source": [
    "# stats of categorical data\n",
    "round (df.describe(exclude = ['float', 'int64']),2)"
   ]
  },
  {
   "cell_type": "code",
   "execution_count": null,
   "id": "88e522a0",
   "metadata": {},
   "outputs": [],
   "source": []
  },
  {
   "cell_type": "code",
   "execution_count": 7,
   "id": "3517b1df",
   "metadata": {
    "scrolled": true
   },
   "outputs": [
    {
     "data": {
      "image/png": "[encoded data removed]",
      "text/plain": [
       "<Figure size 432x288 with 1 Axes>"
      ]
     },
     "metadata": {
      "needs_background": "light"
     },
     "output_type": "display_data"
    },
    {
     "data": {
      "image/png": "[encoded data removed]",
      "text/plain": [
       "<Figure size 432x288 with 1 Axes>"
      ]
     },
     "metadata": {
      "needs_background": "light"
     },
     "output_type": "display_data"
    },
    {
     "data": {
      "image/png": "[encoded data removed]",
      "text/plain": [
       "<Figure size 432x288 with 1 Axes>"
      ]
     },
     "metadata": {
      "needs_background": "light"
     },
     "output_type": "display_data"
    },
    {
     "data": {
      "image/png": "[encoded data removed]",
      "text/plain": [
       "<Figure size 432x288 with 1 Axes>"
      ]
     },
     "metadata": {
      "needs_background": "light"
     },
     "output_type": "display_data"
    },
    {
     "data": {
      "image/png": "[encoded data removed]",
      "text/plain": [
       "<Figure size 432x288 with 1 Axes>"
      ]
     },
     "metadata": {
      "needs_background": "light"
     },
     "output_type": "display_data"
    }
   ],
   "source": [
    "non_num_df = ['gender','work_type','Residence_type','smoking_status','ever_married']\n",
    "for i in non_num_df:\n",
    "    plt.figure()  # Create a new figure for each p\n",
    "    \n",
    "    # For non-numeric data, use a count plot\n",
    "    sns.countplot(y=df[i], data=df)\n",
    "    plt.title(f'Count Plot of {i}')\n",
    "\n",
    "    plt.show()  # Display the plot"
   ]
  },
  {
   "cell_type": "code",
   "execution_count": 8,
   "id": "885cc028",
   "metadata": {},
   "outputs": [
    {
     "data": {
      "text/html": [
       "<div>\n",
       "<style scoped>\n",
       "    .dataframe tbody tr th:only-of-type {\n",
       "        vertical-align: middle;\n",
       "    }\n",
       "\n",
       "    .dataframe tbody tr th {\n",
       "        vertical-align: top;\n",
       "    }\n",
       "\n",
       "    .dataframe thead th {\n",
       "        text-align: right;\n",
       "    }\n",
       "</style>\n",
       "<table border=\"1\" class=\"dataframe\">\n",
       "  <thead>\n",
       "    <tr style=\"text-align: right;\">\n",
       "      <th></th>\n",
       "      <th>gender</th>\n",
       "      <th>work_type</th>\n",
       "      <th>Residence_type</th>\n",
       "      <th>smoking_status</th>\n",
       "      <th>ever_married</th>\n",
       "    </tr>\n",
       "  </thead>\n",
       "  <tbody>\n",
       "    <tr>\n",
       "      <th>0</th>\n",
       "      <td>Male</td>\n",
       "      <td>Private</td>\n",
       "      <td>Urban</td>\n",
       "      <td>formerly smoked</td>\n",
       "      <td>Yes</td>\n",
       "    </tr>\n",
       "    <tr>\n",
       "      <th>1</th>\n",
       "      <td>Female</td>\n",
       "      <td>Self-employed</td>\n",
       "      <td>Rural</td>\n",
       "      <td>never smoked</td>\n",
       "      <td>Yes</td>\n",
       "    </tr>\n",
       "    <tr>\n",
       "      <th>2</th>\n",
       "      <td>Male</td>\n",
       "      <td>Private</td>\n",
       "      <td>Rural</td>\n",
       "      <td>never smoked</td>\n",
       "      <td>Yes</td>\n",
       "    </tr>\n",
       "    <tr>\n",
       "      <th>3</th>\n",
       "      <td>Female</td>\n",
       "      <td>Private</td>\n",
       "      <td>Urban</td>\n",
       "      <td>smokes</td>\n",
       "      <td>Yes</td>\n",
       "    </tr>\n",
       "    <tr>\n",
       "      <th>4</th>\n",
       "      <td>Female</td>\n",
       "      <td>Self-employed</td>\n",
       "      <td>Rural</td>\n",
       "      <td>never smoked</td>\n",
       "      <td>Yes</td>\n",
       "    </tr>\n",
       "  </tbody>\n",
       "</table>\n",
       "</div>"
      ],
      "text/plain": [
       "   gender      work_type Residence_type   smoking_status ever_married\n",
       "0    Male        Private          Urban  formerly smoked          Yes\n",
       "1  Female  Self-employed          Rural     never smoked          Yes\n",
       "2    Male        Private          Rural     never smoked          Yes\n",
       "3  Female        Private          Urban           smokes          Yes\n",
       "4  Female  Self-employed          Rural     never smoked          Yes"
      ]
     },
     "execution_count": 8,
     "metadata": {},
     "output_type": "execute_result"
    }
   ],
   "source": [
    "df[['gender','work_type','Residence_type','smoking_status','ever_married']].head()"
   ]
  },
  {
   "cell_type": "code",
   "execution_count": null,
   "id": "2c922b25",
   "metadata": {},
   "outputs": [],
   "source": []
  },
  {
   "cell_type": "code",
   "execution_count": 9,
   "id": "1a12f31b",
   "metadata": {},
   "outputs": [
    {
     "data": {
      "text/plain": [
       "id                     0\n",
       "gender                 0\n",
       "age                    0\n",
       "hypertension           0\n",
       "heart_disease          0\n",
       "ever_married           0\n",
       "work_type              0\n",
       "Residence_type         0\n",
       "avg_glucose_level      0\n",
       "bmi                  201\n",
       "smoking_status         0\n",
       "stroke                 0\n",
       "dtype: int64"
      ]
     },
     "execution_count": 9,
     "metadata": {},
     "output_type": "execute_result"
    }
   ],
   "source": [
    "# look at null values\n",
    "df.isna().sum()"
   ]
  },
  {
   "cell_type": "code",
   "execution_count": 10,
   "id": "4d916b9c",
   "metadata": {},
   "outputs": [
    {
     "data": {
      "text/html": [
       "<div>\n",
       "<style scoped>\n",
       "    .dataframe tbody tr th:only-of-type {\n",
       "        vertical-align: middle;\n",
       "    }\n",
       "\n",
       "    .dataframe tbody tr th {\n",
       "        vertical-align: top;\n",
       "    }\n",
       "\n",
       "    .dataframe thead th {\n",
       "        text-align: right;\n",
       "    }\n",
       "</style>\n",
       "<table border=\"1\" class=\"dataframe\">\n",
       "  <thead>\n",
       "    <tr style=\"text-align: right;\">\n",
       "      <th></th>\n",
       "      <th>id</th>\n",
       "      <th>gender</th>\n",
       "      <th>age</th>\n",
       "      <th>hypertension</th>\n",
       "      <th>heart_disease</th>\n",
       "      <th>ever_married</th>\n",
       "      <th>work_type</th>\n",
       "      <th>Residence_type</th>\n",
       "      <th>avg_glucose_level</th>\n",
       "      <th>bmi</th>\n",
       "      <th>smoking_status</th>\n",
       "      <th>stroke</th>\n",
       "    </tr>\n",
       "  </thead>\n",
       "  <tbody>\n",
       "    <tr>\n",
       "      <th>1</th>\n",
       "      <td>51676</td>\n",
       "      <td>Female</td>\n",
       "      <td>61.0</td>\n",
       "      <td>0</td>\n",
       "      <td>0</td>\n",
       "      <td>Yes</td>\n",
       "      <td>Self-employed</td>\n",
       "      <td>Rural</td>\n",
       "      <td>202.21</td>\n",
       "      <td>NaN</td>\n",
       "      <td>never smoked</td>\n",
       "      <td>1</td>\n",
       "    </tr>\n",
       "    <tr>\n",
       "      <th>8</th>\n",
       "      <td>27419</td>\n",
       "      <td>Female</td>\n",
       "      <td>59.0</td>\n",
       "      <td>0</td>\n",
       "      <td>0</td>\n",
       "      <td>Yes</td>\n",
       "      <td>Private</td>\n",
       "      <td>Rural</td>\n",
       "      <td>76.15</td>\n",
       "      <td>NaN</td>\n",
       "      <td>Unknown</td>\n",
       "      <td>1</td>\n",
       "    </tr>\n",
       "    <tr>\n",
       "      <th>13</th>\n",
       "      <td>8213</td>\n",
       "      <td>Male</td>\n",
       "      <td>78.0</td>\n",
       "      <td>0</td>\n",
       "      <td>1</td>\n",
       "      <td>Yes</td>\n",
       "      <td>Private</td>\n",
       "      <td>Urban</td>\n",
       "      <td>219.84</td>\n",
       "      <td>NaN</td>\n",
       "      <td>Unknown</td>\n",
       "      <td>1</td>\n",
       "    </tr>\n",
       "    <tr>\n",
       "      <th>19</th>\n",
       "      <td>25226</td>\n",
       "      <td>Male</td>\n",
       "      <td>57.0</td>\n",
       "      <td>0</td>\n",
       "      <td>1</td>\n",
       "      <td>No</td>\n",
       "      <td>Govt_job</td>\n",
       "      <td>Urban</td>\n",
       "      <td>217.08</td>\n",
       "      <td>NaN</td>\n",
       "      <td>Unknown</td>\n",
       "      <td>1</td>\n",
       "    </tr>\n",
       "    <tr>\n",
       "      <th>27</th>\n",
       "      <td>61843</td>\n",
       "      <td>Male</td>\n",
       "      <td>58.0</td>\n",
       "      <td>0</td>\n",
       "      <td>0</td>\n",
       "      <td>Yes</td>\n",
       "      <td>Private</td>\n",
       "      <td>Rural</td>\n",
       "      <td>189.84</td>\n",
       "      <td>NaN</td>\n",
       "      <td>Unknown</td>\n",
       "      <td>1</td>\n",
       "    </tr>\n",
       "  </tbody>\n",
       "</table>\n",
       "</div>"
      ],
      "text/plain": [
       "       id  gender   age  hypertension  heart_disease ever_married  \\\n",
       "1   51676  Female  61.0             0              0          Yes   \n",
       "8   27419  Female  59.0             0              0          Yes   \n",
       "13   8213    Male  78.0             0              1          Yes   \n",
       "19  25226    Male  57.0             0              1           No   \n",
       "27  61843    Male  58.0             0              0          Yes   \n",
       "\n",
       "        work_type Residence_type  avg_glucose_level  bmi smoking_status  \\\n",
       "1   Self-employed          Rural             202.21  NaN   never smoked   \n",
       "8         Private          Rural              76.15  NaN        Unknown   \n",
       "13        Private          Urban             219.84  NaN        Unknown   \n",
       "19       Govt_job          Urban             217.08  NaN        Unknown   \n",
       "27        Private          Rural             189.84  NaN        Unknown   \n",
       "\n",
       "    stroke  \n",
       "1        1  \n",
       "8        1  \n",
       "13       1  \n",
       "19       1  \n",
       "27       1  "
      ]
     },
     "execution_count": 10,
     "metadata": {},
     "output_type": "execute_result"
    }
   ],
   "source": [
    "# Filter the DataFrame for rows where 'bmi' is null\n",
    "df_null_bmi = df[df['bmi'].isna()]\n",
    "df_null_bmi.head()"
   ]
  },
  {
   "cell_type": "code",
   "execution_count": null,
   "id": "2e2a286c",
   "metadata": {},
   "outputs": [],
   "source": []
  },
  {
   "cell_type": "markdown",
   "id": "55fd40ef",
   "metadata": {},
   "source": [
    "Use visalization for null values"
   ]
  },
  {
   "cell_type": "code",
   "execution_count": 11,
   "id": "58a5bfe7",
   "metadata": {},
   "outputs": [
    {
     "data": {
      "image/png": "[encoded data removed]",
      "text/plain": [
       "<Figure size 432x288 with 1 Axes>"
      ]
     },
     "metadata": {
      "needs_background": "light"
     },
     "output_type": "display_data"
    },
    {
     "data": {
      "image/png": "[encoded data removed]",
      "text/plain": [
       "<Figure size 432x288 with 1 Axes>"
      ]
     },
     "metadata": {
      "needs_background": "light"
     },
     "output_type": "display_data"
    },
    {
     "data": {
      "image/png": "[encoded data removed]",
      "text/plain": [
       "<Figure size 432x288 with 1 Axes>"
      ]
     },
     "metadata": {
      "needs_background": "light"
     },
     "output_type": "display_data"
    },
    {
     "data": {
      "image/png": "[encoded data removed]",
      "text/plain": [
       "<Figure size 432x288 with 1 Axes>"
      ]
     },
     "metadata": {
      "needs_background": "light"
     },
     "output_type": "display_data"
    },
    {
     "data": {
      "image/png": "[encoded data removed]",
      "text/plain": [
       "<Figure size 432x288 with 1 Axes>"
      ]
     },
     "metadata": {
      "needs_background": "light"
     },
     "output_type": "display_data"
    },
    {
     "data": {
      "image/png": "[encoded data removed]",
      "text/plain": [
       "<Figure size 432x288 with 1 Axes>"
      ]
     },
     "metadata": {
      "needs_background": "light"
     },
     "output_type": "display_data"
    },
    {
     "data": {
      "image/png": "[encoded data removed]",
      "text/plain": [
       "<Figure size 432x288 with 1 Axes>"
      ]
     },
     "metadata": {
      "needs_background": "light"
     },
     "output_type": "display_data"
    },
    {
     "data": {
      "image/png": "[encoded data removed]",
      "text/plain": [
       "<Figure size 432x288 with 1 Axes>"
      ]
     },
     "metadata": {
      "needs_background": "light"
     },
     "output_type": "display_data"
    },
    {
     "data": {
      "image/png": "[encoded data removed]",
      "text/plain": [
       "<Figure size 432x288 with 1 Axes>"
      ]
     },
     "metadata": {
      "needs_background": "light"
     },
     "output_type": "display_data"
    },
    {
     "data": {
      "image/png": "[encoded data removed]",
      "text/plain": [
       "<Figure size 432x288 with 1 Axes>"
      ]
     },
     "metadata": {
      "needs_background": "light"
     },
     "output_type": "display_data"
    },
    {
     "data": {
      "image/png": "[encoded data removed]",
      "text/plain": [
       "<Figure size 432x288 with 1 Axes>"
      ]
     },
     "metadata": {
      "needs_background": "light"
     },
     "output_type": "display_data"
    },
    {
     "data": {
      "image/png": "[encoded data removed]",
      "text/plain": [
       "<Figure size 432x288 with 1 Axes>"
      ]
     },
     "metadata": {
      "needs_background": "light"
     },
     "output_type": "display_data"
    }
   ],
   "source": [
    "# Filter the DataFrame for rows where 'bmi' is null\n",
    "df_null_bmi = df[df['bmi'].isna()]\n",
    "\n",
    "# Loop through each column\n",
    "for i in df_null_bmi.columns:\n",
    "    plt.figure()  # Create a new figure for each plot\n",
    "\n",
    "    # Check if the column is numeric\n",
    "    if pd.api.types.is_numeric_dtype(df_null_bmi[i]):\n",
    "        df_null_bmi[i].plot(kind='hist')\n",
    "        plt.title(f'Histogram of {i} for Rows with Null BMI')\n",
    "    else:\n",
    "        # For non-numeric data, use a count plot\n",
    "        sns.countplot(y=i, data=df_null_bmi)\n",
    "        plt.title(f'Count Plot of {i} for Rows with Null BMI')\n",
    "\n",
    "    plt.show()  # Display the plot"
   ]
  },
  {
   "cell_type": "markdown",
   "id": "25399f1e",
   "metadata": {},
   "source": [
    "As we observe the visuals for both the entire DataFrame and the subset with null BMI values, the most standout feature is the 'glucose' column. Let's take a closer look at distributions."
   ]
  },
  {
   "cell_type": "code",
   "execution_count": 12,
   "id": "7f75672c",
   "metadata": {},
   "outputs": [
    {
     "data": {
      "text/plain": [
       "Text(0.5, 1.0, 'Histogram of avg_glucose_level for Rows with Null BMI')"
      ]
     },
     "execution_count": 12,
     "metadata": {},
     "output_type": "execute_result"
    },
    {
     "data": {
      "image/png": "[encoded data removed]",
      "text/plain": [
       "<Figure size 432x288 with 1 Axes>"
      ]
     },
     "metadata": {
      "needs_background": "light"
     },
     "output_type": "display_data"
    }
   ],
   "source": [
    "# avg_glucose_level for whole dataframe\n",
    "df_null_bmi['avg_glucose_level'].plot(kind='hist')\n",
    "plt.title(f'Histogram of avg_glucose_level for Rows with Null BMI')"
   ]
  },
  {
   "cell_type": "code",
   "execution_count": 13,
   "id": "3b8f4fa2",
   "metadata": {},
   "outputs": [
    {
     "data": {
      "text/plain": [
       "Text(0.5, 1.0, 'Histogram of avg_glucose_level')"
      ]
     },
     "execution_count": 13,
     "metadata": {},
     "output_type": "execute_result"
    },
    {
     "data": {
      "image/png": "[encoded data removed]",
      "text/plain": [
       "<Figure size 432x288 with 1 Axes>"
      ]
     },
     "metadata": {
      "needs_background": "light"
     },
     "output_type": "display_data"
    }
   ],
   "source": [
    "    # # avg_glucose_level for whole dataframe\n",
    "    df['avg_glucose_level'].plot(kind='hist')\n",
    "    plt.title('Histogram of avg_glucose_level')"
   ]
  },
  {
   "cell_type": "markdown",
   "id": "89c69ef7",
   "metadata": {},
   "source": [
    "The distribution of average glucose levels shows noticeable differences between the original dataset and the subset with missing BMI values. Notably, 4 percent of the data is missing, and this missingness does not appear to be random. To address this, it's advisable to retain the records with missing BMI values. However, adding a new column to indicate whether the BMI is missing could be beneficial for machine learning methods. This approach allows us to maintain data integrity while providing a clear indicator for our models to handle these missing values appropriately."
   ]
  },
  {
   "cell_type": "code",
   "execution_count": 14,
   "id": "431f94c7",
   "metadata": {},
   "outputs": [],
   "source": [
    "# deal with missing data\n",
    "df['missing bmi'] = df['bmi'].isna()"
   ]
  },
  {
   "cell_type": "code",
   "execution_count": 15,
   "id": "4132c591",
   "metadata": {
    "scrolled": true
   },
   "outputs": [
    {
     "data": {
      "text/plain": [
       "201"
      ]
     },
     "execution_count": 15,
     "metadata": {},
     "output_type": "execute_result"
    }
   ],
   "source": [
    "df['bmi'].isna().sum()"
   ]
  },
  {
   "cell_type": "code",
   "execution_count": 16,
   "id": "8b3a850b",
   "metadata": {},
   "outputs": [
    {
     "data": {
      "text/plain": [
       "0"
      ]
     },
     "execution_count": 16,
     "metadata": {},
     "output_type": "execute_result"
    }
   ],
   "source": [
    "#check for duplicate rows\n",
    "df.duplicated().sum()"
   ]
  },
  {
   "cell_type": "markdown",
   "id": "08eb5d98",
   "metadata": {},
   "source": [
    "There is no duplicated record in the data set"
   ]
  },
  {
   "cell_type": "code",
   "execution_count": 17,
   "id": "23548b60",
   "metadata": {},
   "outputs": [],
   "source": [
    "# fill missing data with median\n",
    "df['bmi'] = df['bmi'].fillna(round (df['bmi'].median(), 2))"
   ]
  },
  {
   "cell_type": "code",
   "execution_count": 18,
   "id": "ca759883",
   "metadata": {
    "scrolled": true
   },
   "outputs": [
    {
     "data": {
      "text/plain": [
       "id                   0\n",
       "gender               0\n",
       "age                  0\n",
       "hypertension         0\n",
       "heart_disease        0\n",
       "ever_married         0\n",
       "work_type            0\n",
       "Residence_type       0\n",
       "avg_glucose_level    0\n",
       "bmi                  0\n",
       "smoking_status       0\n",
       "stroke               0\n",
       "missing bmi          0\n",
       "dtype: int64"
      ]
     },
     "execution_count": 18,
     "metadata": {},
     "output_type": "execute_result"
    }
   ],
   "source": [
    "df.isna().sum()"
   ]
  },
  {
   "cell_type": "code",
   "execution_count": 19,
   "id": "3b2c9d04",
   "metadata": {
    "scrolled": false
   },
   "outputs": [
    {
     "data": {
      "text/html": [
       "<div>\n",
       "<style scoped>\n",
       "    .dataframe tbody tr th:only-of-type {\n",
       "        vertical-align: middle;\n",
       "    }\n",
       "\n",
       "    .dataframe tbody tr th {\n",
       "        vertical-align: top;\n",
       "    }\n",
       "\n",
       "    .dataframe thead th {\n",
       "        text-align: right;\n",
       "    }\n",
       "</style>\n",
       "<table border=\"1\" class=\"dataframe\">\n",
       "  <thead>\n",
       "    <tr style=\"text-align: right;\">\n",
       "      <th></th>\n",
       "      <th>id</th>\n",
       "      <th>gender</th>\n",
       "      <th>age</th>\n",
       "      <th>hypertension</th>\n",
       "      <th>heart_disease</th>\n",
       "      <th>ever_married</th>\n",
       "      <th>work_type</th>\n",
       "      <th>Residence_type</th>\n",
       "      <th>avg_glucose_level</th>\n",
       "      <th>bmi</th>\n",
       "      <th>smoking_status</th>\n",
       "      <th>stroke</th>\n",
       "      <th>missing bmi</th>\n",
       "    </tr>\n",
       "  </thead>\n",
       "  <tbody>\n",
       "    <tr>\n",
       "      <th>0</th>\n",
       "      <td>9046</td>\n",
       "      <td>Male</td>\n",
       "      <td>67.0</td>\n",
       "      <td>0</td>\n",
       "      <td>1</td>\n",
       "      <td>Yes</td>\n",
       "      <td>Private</td>\n",
       "      <td>Urban</td>\n",
       "      <td>228.69</td>\n",
       "      <td>36.6</td>\n",
       "      <td>formerly smoked</td>\n",
       "      <td>1</td>\n",
       "      <td>False</td>\n",
       "    </tr>\n",
       "    <tr>\n",
       "      <th>1</th>\n",
       "      <td>51676</td>\n",
       "      <td>Female</td>\n",
       "      <td>61.0</td>\n",
       "      <td>0</td>\n",
       "      <td>0</td>\n",
       "      <td>Yes</td>\n",
       "      <td>Self-employed</td>\n",
       "      <td>Rural</td>\n",
       "      <td>202.21</td>\n",
       "      <td>28.1</td>\n",
       "      <td>never smoked</td>\n",
       "      <td>1</td>\n",
       "      <td>True</td>\n",
       "    </tr>\n",
       "    <tr>\n",
       "      <th>2</th>\n",
       "      <td>31112</td>\n",
       "      <td>Male</td>\n",
       "      <td>80.0</td>\n",
       "      <td>0</td>\n",
       "      <td>1</td>\n",
       "      <td>Yes</td>\n",
       "      <td>Private</td>\n",
       "      <td>Rural</td>\n",
       "      <td>105.92</td>\n",
       "      <td>32.5</td>\n",
       "      <td>never smoked</td>\n",
       "      <td>1</td>\n",
       "      <td>False</td>\n",
       "    </tr>\n",
       "    <tr>\n",
       "      <th>3</th>\n",
       "      <td>60182</td>\n",
       "      <td>Female</td>\n",
       "      <td>49.0</td>\n",
       "      <td>0</td>\n",
       "      <td>0</td>\n",
       "      <td>Yes</td>\n",
       "      <td>Private</td>\n",
       "      <td>Urban</td>\n",
       "      <td>171.23</td>\n",
       "      <td>34.4</td>\n",
       "      <td>smokes</td>\n",
       "      <td>1</td>\n",
       "      <td>False</td>\n",
       "    </tr>\n",
       "    <tr>\n",
       "      <th>4</th>\n",
       "      <td>1665</td>\n",
       "      <td>Female</td>\n",
       "      <td>79.0</td>\n",
       "      <td>1</td>\n",
       "      <td>0</td>\n",
       "      <td>Yes</td>\n",
       "      <td>Self-employed</td>\n",
       "      <td>Rural</td>\n",
       "      <td>174.12</td>\n",
       "      <td>24.0</td>\n",
       "      <td>never smoked</td>\n",
       "      <td>1</td>\n",
       "      <td>False</td>\n",
       "    </tr>\n",
       "  </tbody>\n",
       "</table>\n",
       "</div>"
      ],
      "text/plain": [
       "      id  gender   age  hypertension  heart_disease ever_married  \\\n",
       "0   9046    Male  67.0             0              1          Yes   \n",
       "1  51676  Female  61.0             0              0          Yes   \n",
       "2  31112    Male  80.0             0              1          Yes   \n",
       "3  60182  Female  49.0             0              0          Yes   \n",
       "4   1665  Female  79.0             1              0          Yes   \n",
       "\n",
       "       work_type Residence_type  avg_glucose_level   bmi   smoking_status  \\\n",
       "0        Private          Urban             228.69  36.6  formerly smoked   \n",
       "1  Self-employed          Rural             202.21  28.1     never smoked   \n",
       "2        Private          Rural             105.92  32.5     never smoked   \n",
       "3        Private          Urban             171.23  34.4           smokes   \n",
       "4  Self-employed          Rural             174.12  24.0     never smoked   \n",
       "\n",
       "   stroke  missing bmi  \n",
       "0       1        False  \n",
       "1       1         True  \n",
       "2       1        False  \n",
       "3       1        False  \n",
       "4       1        False  "
      ]
     },
     "execution_count": 19,
     "metadata": {},
     "output_type": "execute_result"
    }
   ],
   "source": [
    "df.head()"
   ]
  },
  {
   "cell_type": "markdown",
   "id": "e6ccc75e",
   "metadata": {},
   "source": [
    "# Dataset Overview\n",
    "\n",
    "Our dataset contains a mix of categorical and numerical features, with a focus on health-related measurements. Here's a breakdown of the features:\n",
    "\n",
    "## Categorical Features\n",
    "- `gender`: Gender of the individual\n",
    "- `ever_married`: Marital status\n",
    "- `work_type`: Type of occupation\n",
    "- `Residence_type`: Type of residence (Urban/Rural)\n",
    "- `smoking_status`: Smoking status\n",
    "\n",
    "## Binary Numerical Features\n",
    "- `hypertension`: Presence of hypertension (0 = No, 1 = Yes)\n",
    "- `heart_disease`: Presence of heart disease (0 = No, 1 = Yes)\n",
    "- `stroke`: Occurrence of stroke (0 = No, 1 = Yes)\n",
    "\n",
    "## Continuous Numerical Features\n",
    "- `age`: Age of the individual\n",
    "- `avg_glucose_level`: Average glucose level in blood\n",
    "- `bmi`: Body Mass Index\n",
    "\n",
    "**Note**: The `bmi` feature has missing data that needs to be addressed. Most of our data is categorical, which will require special attention for visualization. For feature extraction, we can consider binning the continuous features (age, avg_glucose_level, and bmi) while keeping other features as they are.\n"
   ]
  },
  {
   "cell_type": "markdown",
   "id": "8c94f45e",
   "metadata": {},
   "source": [
    "### Story telling with data"
   ]
  },
  {
   "cell_type": "markdown",
   "id": "64b5ba62",
   "metadata": {},
   "source": [
    "### Data Binning Strategies\n",
    "\n",
    "In our analysis, we'll be binning several key variables to categorize our data more effectively. Below are the binning strategies for Body Mass Index (BMI), age, and average glucose levels, along with references for each categorization method.\n",
    "\n",
    "#### Body Mass Index (BMI) Binning\n",
    "\n",
    "BMI is a key health indicator used to categorize individuals into different weight statuses. The binning of BMI will be based on standard medical categories. \n",
    "\n",
    "Reference: [Body Mass Index Categories](https://www.medicalnewstoday.com/articles/323446#body-mass-index)\n",
    "\n",
    "#### Age Binning\n",
    "\n",
    "Categorizing individuals into different life stages based on age can be particularly relevant in studies where age is a significant factor.\n",
    "\n",
    "Reference: [Age and Physical Description](https://kidspicturedictionary.com/english-through-pictures/people-english-through-pictures/age-physical-description/)\n",
    "\n",
    "#### Average Glucose Level Binning\n",
    "\n",
    "Binning average glucose levels helps in categorizing individuals based on their blood sugar levels, crucial in studies related to diabetes and metabolic health.\n",
    "\n",
    "Reference: [Normal Blood Sugar Level Chart](https://agamatrix.com/blog/normal-blood-sugar-level-chart/)\n"
   ]
  },
  {
   "cell_type": "code",
   "execution_count": 20,
   "id": "92382164",
   "metadata": {},
   "outputs": [
    {
     "data": {
      "text/html": [
       "<div>\n",
       "<style scoped>\n",
       "    .dataframe tbody tr th:only-of-type {\n",
       "        vertical-align: middle;\n",
       "    }\n",
       "\n",
       "    .dataframe tbody tr th {\n",
       "        vertical-align: top;\n",
       "    }\n",
       "\n",
       "    .dataframe thead th {\n",
       "        text-align: right;\n",
       "    }\n",
       "</style>\n",
       "<table border=\"1\" class=\"dataframe\">\n",
       "  <thead>\n",
       "    <tr style=\"text-align: right;\">\n",
       "      <th></th>\n",
       "      <th>id</th>\n",
       "      <th>gender</th>\n",
       "      <th>age</th>\n",
       "      <th>hypertension</th>\n",
       "      <th>heart_disease</th>\n",
       "      <th>ever_married</th>\n",
       "      <th>work_type</th>\n",
       "      <th>Residence_type</th>\n",
       "      <th>avg_glucose_level</th>\n",
       "      <th>bmi</th>\n",
       "      <th>smoking_status</th>\n",
       "      <th>stroke</th>\n",
       "      <th>missing bmi</th>\n",
       "      <th>age_category</th>\n",
       "      <th>glucose_category</th>\n",
       "      <th>bmi_category</th>\n",
       "    </tr>\n",
       "  </thead>\n",
       "  <tbody>\n",
       "    <tr>\n",
       "      <th>0</th>\n",
       "      <td>9046</td>\n",
       "      <td>Male</td>\n",
       "      <td>67.0</td>\n",
       "      <td>0</td>\n",
       "      <td>1</td>\n",
       "      <td>Yes</td>\n",
       "      <td>Private</td>\n",
       "      <td>Urban</td>\n",
       "      <td>228.69</td>\n",
       "      <td>36.6</td>\n",
       "      <td>formerly smoked</td>\n",
       "      <td>1</td>\n",
       "      <td>False</td>\n",
       "      <td>Senior</td>\n",
       "      <td>Very High</td>\n",
       "      <td>Obese</td>\n",
       "    </tr>\n",
       "    <tr>\n",
       "      <th>1</th>\n",
       "      <td>51676</td>\n",
       "      <td>Female</td>\n",
       "      <td>61.0</td>\n",
       "      <td>0</td>\n",
       "      <td>0</td>\n",
       "      <td>Yes</td>\n",
       "      <td>Self-employed</td>\n",
       "      <td>Rural</td>\n",
       "      <td>202.21</td>\n",
       "      <td>28.1</td>\n",
       "      <td>never smoked</td>\n",
       "      <td>1</td>\n",
       "      <td>True</td>\n",
       "      <td>Senior</td>\n",
       "      <td>Very High</td>\n",
       "      <td>Overweight</td>\n",
       "    </tr>\n",
       "    <tr>\n",
       "      <th>2</th>\n",
       "      <td>31112</td>\n",
       "      <td>Male</td>\n",
       "      <td>80.0</td>\n",
       "      <td>0</td>\n",
       "      <td>1</td>\n",
       "      <td>Yes</td>\n",
       "      <td>Private</td>\n",
       "      <td>Rural</td>\n",
       "      <td>105.92</td>\n",
       "      <td>32.5</td>\n",
       "      <td>never smoked</td>\n",
       "      <td>1</td>\n",
       "      <td>False</td>\n",
       "      <td>Senior</td>\n",
       "      <td>Normal</td>\n",
       "      <td>Obese</td>\n",
       "    </tr>\n",
       "    <tr>\n",
       "      <th>3</th>\n",
       "      <td>60182</td>\n",
       "      <td>Female</td>\n",
       "      <td>49.0</td>\n",
       "      <td>0</td>\n",
       "      <td>0</td>\n",
       "      <td>Yes</td>\n",
       "      <td>Private</td>\n",
       "      <td>Urban</td>\n",
       "      <td>171.23</td>\n",
       "      <td>34.4</td>\n",
       "      <td>smokes</td>\n",
       "      <td>1</td>\n",
       "      <td>False</td>\n",
       "      <td>Adult</td>\n",
       "      <td>High</td>\n",
       "      <td>Obese</td>\n",
       "    </tr>\n",
       "    <tr>\n",
       "      <th>4</th>\n",
       "      <td>1665</td>\n",
       "      <td>Female</td>\n",
       "      <td>79.0</td>\n",
       "      <td>1</td>\n",
       "      <td>0</td>\n",
       "      <td>Yes</td>\n",
       "      <td>Self-employed</td>\n",
       "      <td>Rural</td>\n",
       "      <td>174.12</td>\n",
       "      <td>24.0</td>\n",
       "      <td>never smoked</td>\n",
       "      <td>1</td>\n",
       "      <td>False</td>\n",
       "      <td>Senior</td>\n",
       "      <td>High</td>\n",
       "      <td>Normal</td>\n",
       "    </tr>\n",
       "  </tbody>\n",
       "</table>\n",
       "</div>"
      ],
      "text/plain": [
       "      id  gender   age  hypertension  heart_disease ever_married  \\\n",
       "0   9046    Male  67.0             0              1          Yes   \n",
       "1  51676  Female  61.0             0              0          Yes   \n",
       "2  31112    Male  80.0             0              1          Yes   \n",
       "3  60182  Female  49.0             0              0          Yes   \n",
       "4   1665  Female  79.0             1              0          Yes   \n",
       "\n",
       "       work_type Residence_type  avg_glucose_level   bmi   smoking_status  \\\n",
       "0        Private          Urban             228.69  36.6  formerly smoked   \n",
       "1  Self-employed          Rural             202.21  28.1     never smoked   \n",
       "2        Private          Rural             105.92  32.5     never smoked   \n",
       "3        Private          Urban             171.23  34.4           smokes   \n",
       "4  Self-employed          Rural             174.12  24.0     never smoked   \n",
       "\n",
       "   stroke  missing bmi age_category glucose_category bmi_category  \n",
       "0       1        False       Senior        Very High        Obese  \n",
       "1       1         True       Senior        Very High   Overweight  \n",
       "2       1        False       Senior           Normal        Obese  \n",
       "3       1        False        Adult             High        Obese  \n",
       "4       1        False       Senior             High       Normal  "
      ]
     },
     "execution_count": 20,
     "metadata": {},
     "output_type": "execute_result"
    }
   ],
   "source": [
    "# Binning continuous features for better categorization\n",
    "df['age_category'] = pd.cut(df['age'], bins=[0, 18, 35, 60, 100], labels=['Child', 'Young Adult', 'Adult', 'Senior'])\n",
    "df['glucose_category'] = pd.cut(df['avg_glucose_level'], bins=[0, 90, 140, 200, 500], labels=['Low', 'Normal', 'High', 'Very High'])\n",
    "df['bmi_category'] = pd.cut(df['bmi'], bins=[0, 18.5, 25, 30, 100], labels=['Underweight', 'Normal', 'Overweight', 'Obese'])\n",
    "\n",
    "# Display the first few rows of the modified DataFrame\n",
    "df.head()"
   ]
  },
  {
   "cell_type": "code",
   "execution_count": 21,
   "id": "42e77c0a",
   "metadata": {
    "scrolled": true
   },
   "outputs": [
    {
     "name": "stdout",
     "output_type": "stream",
     "text": [
      "<class 'pandas.core.frame.DataFrame'>\n",
      "RangeIndex: 5110 entries, 0 to 5109\n",
      "Data columns (total 16 columns):\n",
      " #   Column             Non-Null Count  Dtype   \n",
      "---  ------             --------------  -----   \n",
      " 0   id                 5110 non-null   int64   \n",
      " 1   gender             5110 non-null   object  \n",
      " 2   age                5110 non-null   float64 \n",
      " 3   hypertension       5110 non-null   int64   \n",
      " 4   heart_disease      5110 non-null   int64   \n",
      " 5   ever_married       5110 non-null   object  \n",
      " 6   work_type          5110 non-null   object  \n",
      " 7   Residence_type     5110 non-null   object  \n",
      " 8   avg_glucose_level  5110 non-null   float64 \n",
      " 9   bmi                5110 non-null   float64 \n",
      " 10  smoking_status     5110 non-null   object  \n",
      " 11  stroke             5110 non-null   int64   \n",
      " 12  missing bmi        5110 non-null   bool    \n",
      " 13  age_category       5110 non-null   category\n",
      " 14  glucose_category   5110 non-null   category\n",
      " 15  bmi_category       5110 non-null   category\n",
      "dtypes: bool(1), category(3), float64(3), int64(4), object(5)\n",
      "memory usage: 499.7+ KB\n"
     ]
    }
   ],
   "source": [
    "df.info()"
   ]
  },
  {
   "cell_type": "markdown",
   "id": "0b71a0cd",
   "metadata": {},
   "source": [
    "##### take a closer look at data with ratio of stroke"
   ]
  },
  {
   "cell_type": "code",
   "execution_count": 22,
   "id": "ae6f9ddb",
   "metadata": {},
   "outputs": [
    {
     "data": {
      "image/png": "[encoded data removed]",
      "text/plain": [
       "<Figure size 432x288 with 1 Axes>"
      ]
     },
     "metadata": {
      "needs_background": "light"
     },
     "output_type": "display_data"
    },
    {
     "data": {
      "image/png": "[encoded data removed]",
      "text/plain": [
       "<Figure size 432x288 with 1 Axes>"
      ]
     },
     "metadata": {
      "needs_background": "light"
     },
     "output_type": "display_data"
    },
    {
     "data": {
      "image/png": "[encoded data removed]",
      "text/plain": [
       "<Figure size 432x288 with 1 Axes>"
      ]
     },
     "metadata": {
      "needs_background": "light"
     },
     "output_type": "display_data"
    },
    {
     "data": {
      "image/png": "[encoded data removed]",
      "text/plain": [
       "<Figure size 432x288 with 1 Axes>"
      ]
     },
     "metadata": {
      "needs_background": "light"
     },
     "output_type": "display_data"
    },
    {
     "data": {
      "image/png": "[encoded data removed]",
      "text/plain": [
       "<Figure size 432x288 with 1 Axes>"
      ]
     },
     "metadata": {
      "needs_background": "light"
     },
     "output_type": "display_data"
    }
   ],
   "source": [
    "# visualization for columns with object data type\n",
    "for col in df.select_dtypes('object').columns:\n",
    "    rate_data = df.groupby([col,'stroke'])['stroke'].count() / df.groupby(col)['stroke'].count()\n",
    "    \n",
    "    rate_data.unstack()[[1,0]].sort_values(1).plot(kind='barh',stacked=True)\n",
    "    plt.title(f\"stroke rate per {col}\")\n",
    "    sns.despine()\n",
    "    plt.show()\n",
    "    "
   ]
  },
  {
   "cell_type": "code",
   "execution_count": null,
   "id": "a26de9ec",
   "metadata": {},
   "outputs": [],
   "source": []
  },
  {
   "cell_type": "code",
   "execution_count": null,
   "id": "61a3197a",
   "metadata": {},
   "outputs": [],
   "source": []
  },
  {
   "cell_type": "markdown",
   "id": "313d6e1b",
   "metadata": {},
   "source": [
    "##### now for numeric data"
   ]
  },
  {
   "cell_type": "code",
   "execution_count": null,
   "id": "7f3e2424",
   "metadata": {},
   "outputs": [],
   "source": []
  },
  {
   "cell_type": "code",
   "execution_count": 23,
   "id": "aef501f8",
   "metadata": {
    "scrolled": true
   },
   "outputs": [
    {
     "data": {
      "image/png": "[encoded data removed]",
      "text/plain": [
       "<Figure size 432x288 with 1 Axes>"
      ]
     },
     "metadata": {
      "needs_background": "light"
     },
     "output_type": "display_data"
    },
    {
     "data": {
      "image/png": "[encoded data removed]",
      "text/plain": [
       "<Figure size 432x288 with 1 Axes>"
      ]
     },
     "metadata": {
      "needs_background": "light"
     },
     "output_type": "display_data"
    },
    {
     "data": {
      "image/png": "[encoded data removed]",
      "text/plain": [
       "<Figure size 432x288 with 1 Axes>"
      ]
     },
     "metadata": {
      "needs_background": "light"
     },
     "output_type": "display_data"
    }
   ],
   "source": [
    "#  visaalization for columns with category data type\n",
    "for col in df.select_dtypes('category').columns:\n",
    "    rate_data = df.groupby([col,'stroke'])['stroke'].count() / df.groupby(col)['stroke'].count()\n",
    "    \n",
    "    rate_data.unstack()[[1,0]].sort_values(1).plot(kind='barh',stacked=True)\n",
    "    plt.title(f\"stroke rate per {col} type\")\n",
    "    sns.despine()\n",
    "    plt.show()"
   ]
  },
  {
   "cell_type": "markdown",
   "id": "91c63bd8",
   "metadata": {},
   "source": [
    "Does marriage and glucose result in a higher incidence of stroke? Considering that children are typically unmarried, we will demonstrate analysis on adults and seniors to examine the stroke ratio in relation to marital status"
   ]
  },
  {
   "cell_type": "code",
   "execution_count": 24,
   "id": "d14927ff",
   "metadata": {},
   "outputs": [
    {
     "data": {
      "image/png": "[encoded data removed]",
      "text/plain": [
       "<Figure size 432x288 with 1 Axes>"
      ]
     },
     "metadata": {
      "needs_background": "light"
     },
     "output_type": "display_data"
    }
   ],
   "source": [
    "# Filter the DataFrame for seniors and adults\n",
    "senior_df = df[df['age_category'].isin(['Senior', 'Adult'])]\n",
    "\n",
    "# Calculate the rate\n",
    "rate_data = senior_df.groupby(['ever_married', 'stroke'])['stroke'].count() / senior_df.groupby('ever_married')['stroke'].count()\n",
    "\n",
    "# Unstack, sort, and plot\n",
    "rate_data.unstack().sort_values(by=1)[[1, 0]].plot(kind='barh', stacked=True)\n",
    "plt.title(\"Stroke Rate per Marital Status for Seniors\")\n",
    "sns.despine()\n",
    "plt.show()"
   ]
  },
  {
   "cell_type": "markdown",
   "id": "bef2b998",
   "metadata": {},
   "source": [
    "As the visual analysis indicates, the ratio of stroke incidence among adults and seniors appears to be similar for both married and unmarried groups."
   ]
  },
  {
   "cell_type": "code",
   "execution_count": 25,
   "id": "3979aa30",
   "metadata": {},
   "outputs": [
    {
     "data": {
      "image/png": "[encoded data removed]",
      "text/plain": [
       "<Figure size 432x288 with 1 Axes>"
      ]
     },
     "metadata": {
      "needs_background": "light"
     },
     "output_type": "display_data"
    }
   ],
   "source": [
    "#visualization with numeric data type (heart disease)\n",
    "rate_data = df.groupby(['heart_disease','stroke'])['stroke'].count() / df.groupby('heart_disease')['stroke'].count()\n",
    "    \n",
    "rate_data.unstack()[[1,0]].sort_values(1).plot(kind='barh',stacked=True)\n",
    "plt.title(f\"stroke rate per heart_disease\")\n",
    "sns.despine()\n",
    "plt.show()"
   ]
  },
  {
   "cell_type": "code",
   "execution_count": 26,
   "id": "bcc03a22",
   "metadata": {},
   "outputs": [
    {
     "data": {
      "image/png": "[encoded data removed]",
      "text/plain": [
       "<Figure size 432x288 with 1 Axes>"
      ]
     },
     "metadata": {
      "needs_background": "light"
     },
     "output_type": "display_data"
    }
   ],
   "source": [
    "#visualization with numeric data type (hypertension)\n",
    "rate_data = df.groupby(['hypertension','stroke'])['stroke'].count() / df.groupby('hypertension')['stroke'].count()\n",
    "    \n",
    "rate_data.unstack()[[1,0]].sort_values(1).plot(kind='barh',stacked=True)\n",
    "plt.title(f\"stroke rate per hypertension\")\n",
    "sns.despine()\n",
    "plt.show()"
   ]
  },
  {
   "cell_type": "markdown",
   "id": "1eaa01ee",
   "metadata": {},
   "source": [
    "###### Let's examine the relationship between glucose levels and the incidence of stroke. Does a higher glucose level correlate with an increased risk of stroke?"
   ]
  },
  {
   "cell_type": "code",
   "execution_count": 27,
   "id": "616aa0d9",
   "metadata": {},
   "outputs": [
    {
     "data": {
      "image/png": "[encoded data removed]",
      "text/plain": [
       "<Figure size 432x288 with 1 Axes>"
      ]
     },
     "metadata": {
      "needs_background": "light"
     },
     "output_type": "display_data"
    }
   ],
   "source": [
    "# Plotting the data\n",
    "# 'No Stroke' group\n",
    "sns.kdeplot(data=df[df['stroke'] == 0], x='avg_glucose_level', shade=True, alpha=1,label='No Stroke')\n",
    "# 'Stroke' group\n",
    "sns.kdeplot(data=df[df['stroke'] == 1], x='avg_glucose_level', shade=True, alpha=0.8, label='Stroke')\n",
    "\n",
    "# Setting the title and labels\n",
    "plt.title('Distribution of Average Glucose Levels by Stroke Status', fontsize=14)\n",
    "plt.xlabel('Average Glucose Level', fontsize=12)\n",
    "plt.ylabel('Density', fontsize=12)\n",
    "\n",
    "# Adding a legend to show which color corresponds to which group\n",
    "plt.legend()\n",
    "\n",
    "# Display the plot\n",
    "plt.show()\n"
   ]
  },
  {
   "cell_type": "markdown",
   "id": "b74c8f8f",
   "metadata": {},
   "source": [
    "Glucose level distribution is skewed towards left and most of the strokes can be seen people with regular glucose levels. we can NOT conclude Glucose does not have significant impact on strokes, and its unclear strokes are which group effected by strokes.\n",
    "\n",
    "avg_glucose_level : High blood glucose is found in stroke cases. A value of 126+ has been observed alot."
   ]
  },
  {
   "cell_type": "markdown",
   "id": "c2b10bdd",
   "metadata": {},
   "source": [
    "### dive into machine learning"
   ]
  },
  {
   "cell_type": "code",
   "execution_count": 28,
   "id": "7896106f",
   "metadata": {},
   "outputs": [
    {
     "data": {
      "text/html": [
       "<div>\n",
       "<style scoped>\n",
       "    .dataframe tbody tr th:only-of-type {\n",
       "        vertical-align: middle;\n",
       "    }\n",
       "\n",
       "    .dataframe tbody tr th {\n",
       "        vertical-align: top;\n",
       "    }\n",
       "\n",
       "    .dataframe thead th {\n",
       "        text-align: right;\n",
       "    }\n",
       "</style>\n",
       "<table border=\"1\" class=\"dataframe\">\n",
       "  <thead>\n",
       "    <tr style=\"text-align: right;\">\n",
       "      <th></th>\n",
       "      <th>id</th>\n",
       "      <th>gender</th>\n",
       "      <th>age</th>\n",
       "      <th>hypertension</th>\n",
       "      <th>heart_disease</th>\n",
       "      <th>ever_married</th>\n",
       "      <th>work_type</th>\n",
       "      <th>Residence_type</th>\n",
       "      <th>avg_glucose_level</th>\n",
       "      <th>bmi</th>\n",
       "      <th>smoking_status</th>\n",
       "      <th>stroke</th>\n",
       "      <th>missing bmi</th>\n",
       "      <th>age_category</th>\n",
       "      <th>glucose_category</th>\n",
       "      <th>bmi_category</th>\n",
       "    </tr>\n",
       "  </thead>\n",
       "  <tbody>\n",
       "    <tr>\n",
       "      <th>0</th>\n",
       "      <td>9046</td>\n",
       "      <td>Male</td>\n",
       "      <td>67.0</td>\n",
       "      <td>0</td>\n",
       "      <td>1</td>\n",
       "      <td>Yes</td>\n",
       "      <td>Private</td>\n",
       "      <td>Urban</td>\n",
       "      <td>228.69</td>\n",
       "      <td>36.6</td>\n",
       "      <td>formerly smoked</td>\n",
       "      <td>1</td>\n",
       "      <td>False</td>\n",
       "      <td>Senior</td>\n",
       "      <td>Very High</td>\n",
       "      <td>Obese</td>\n",
       "    </tr>\n",
       "    <tr>\n",
       "      <th>1</th>\n",
       "      <td>51676</td>\n",
       "      <td>Female</td>\n",
       "      <td>61.0</td>\n",
       "      <td>0</td>\n",
       "      <td>0</td>\n",
       "      <td>Yes</td>\n",
       "      <td>Self-employed</td>\n",
       "      <td>Rural</td>\n",
       "      <td>202.21</td>\n",
       "      <td>28.1</td>\n",
       "      <td>never smoked</td>\n",
       "      <td>1</td>\n",
       "      <td>True</td>\n",
       "      <td>Senior</td>\n",
       "      <td>Very High</td>\n",
       "      <td>Overweight</td>\n",
       "    </tr>\n",
       "    <tr>\n",
       "      <th>2</th>\n",
       "      <td>31112</td>\n",
       "      <td>Male</td>\n",
       "      <td>80.0</td>\n",
       "      <td>0</td>\n",
       "      <td>1</td>\n",
       "      <td>Yes</td>\n",
       "      <td>Private</td>\n",
       "      <td>Rural</td>\n",
       "      <td>105.92</td>\n",
       "      <td>32.5</td>\n",
       "      <td>never smoked</td>\n",
       "      <td>1</td>\n",
       "      <td>False</td>\n",
       "      <td>Senior</td>\n",
       "      <td>Normal</td>\n",
       "      <td>Obese</td>\n",
       "    </tr>\n",
       "    <tr>\n",
       "      <th>3</th>\n",
       "      <td>60182</td>\n",
       "      <td>Female</td>\n",
       "      <td>49.0</td>\n",
       "      <td>0</td>\n",
       "      <td>0</td>\n",
       "      <td>Yes</td>\n",
       "      <td>Private</td>\n",
       "      <td>Urban</td>\n",
       "      <td>171.23</td>\n",
       "      <td>34.4</td>\n",
       "      <td>smokes</td>\n",
       "      <td>1</td>\n",
       "      <td>False</td>\n",
       "      <td>Adult</td>\n",
       "      <td>High</td>\n",
       "      <td>Obese</td>\n",
       "    </tr>\n",
       "    <tr>\n",
       "      <th>4</th>\n",
       "      <td>1665</td>\n",
       "      <td>Female</td>\n",
       "      <td>79.0</td>\n",
       "      <td>1</td>\n",
       "      <td>0</td>\n",
       "      <td>Yes</td>\n",
       "      <td>Self-employed</td>\n",
       "      <td>Rural</td>\n",
       "      <td>174.12</td>\n",
       "      <td>24.0</td>\n",
       "      <td>never smoked</td>\n",
       "      <td>1</td>\n",
       "      <td>False</td>\n",
       "      <td>Senior</td>\n",
       "      <td>High</td>\n",
       "      <td>Normal</td>\n",
       "    </tr>\n",
       "    <tr>\n",
       "      <th>...</th>\n",
       "      <td>...</td>\n",
       "      <td>...</td>\n",
       "      <td>...</td>\n",
       "      <td>...</td>\n",
       "      <td>...</td>\n",
       "      <td>...</td>\n",
       "      <td>...</td>\n",
       "      <td>...</td>\n",
       "      <td>...</td>\n",
       "      <td>...</td>\n",
       "      <td>...</td>\n",
       "      <td>...</td>\n",
       "      <td>...</td>\n",
       "      <td>...</td>\n",
       "      <td>...</td>\n",
       "      <td>...</td>\n",
       "    </tr>\n",
       "    <tr>\n",
       "      <th>5105</th>\n",
       "      <td>18234</td>\n",
       "      <td>Female</td>\n",
       "      <td>80.0</td>\n",
       "      <td>1</td>\n",
       "      <td>0</td>\n",
       "      <td>Yes</td>\n",
       "      <td>Private</td>\n",
       "      <td>Urban</td>\n",
       "      <td>83.75</td>\n",
       "      <td>28.1</td>\n",
       "      <td>never smoked</td>\n",
       "      <td>0</td>\n",
       "      <td>True</td>\n",
       "      <td>Senior</td>\n",
       "      <td>Low</td>\n",
       "      <td>Overweight</td>\n",
       "    </tr>\n",
       "    <tr>\n",
       "      <th>5106</th>\n",
       "      <td>44873</td>\n",
       "      <td>Female</td>\n",
       "      <td>81.0</td>\n",
       "      <td>0</td>\n",
       "      <td>0</td>\n",
       "      <td>Yes</td>\n",
       "      <td>Self-employed</td>\n",
       "      <td>Urban</td>\n",
       "      <td>125.20</td>\n",
       "      <td>40.0</td>\n",
       "      <td>never smoked</td>\n",
       "      <td>0</td>\n",
       "      <td>False</td>\n",
       "      <td>Senior</td>\n",
       "      <td>Normal</td>\n",
       "      <td>Obese</td>\n",
       "    </tr>\n",
       "    <tr>\n",
       "      <th>5107</th>\n",
       "      <td>19723</td>\n",
       "      <td>Female</td>\n",
       "      <td>35.0</td>\n",
       "      <td>0</td>\n",
       "      <td>0</td>\n",
       "      <td>Yes</td>\n",
       "      <td>Self-employed</td>\n",
       "      <td>Rural</td>\n",
       "      <td>82.99</td>\n",
       "      <td>30.6</td>\n",
       "      <td>never smoked</td>\n",
       "      <td>0</td>\n",
       "      <td>False</td>\n",
       "      <td>Young Adult</td>\n",
       "      <td>Low</td>\n",
       "      <td>Obese</td>\n",
       "    </tr>\n",
       "    <tr>\n",
       "      <th>5108</th>\n",
       "      <td>37544</td>\n",
       "      <td>Male</td>\n",
       "      <td>51.0</td>\n",
       "      <td>0</td>\n",
       "      <td>0</td>\n",
       "      <td>Yes</td>\n",
       "      <td>Private</td>\n",
       "      <td>Rural</td>\n",
       "      <td>166.29</td>\n",
       "      <td>25.6</td>\n",
       "      <td>formerly smoked</td>\n",
       "      <td>0</td>\n",
       "      <td>False</td>\n",
       "      <td>Adult</td>\n",
       "      <td>High</td>\n",
       "      <td>Overweight</td>\n",
       "    </tr>\n",
       "    <tr>\n",
       "      <th>5109</th>\n",
       "      <td>44679</td>\n",
       "      <td>Female</td>\n",
       "      <td>44.0</td>\n",
       "      <td>0</td>\n",
       "      <td>0</td>\n",
       "      <td>Yes</td>\n",
       "      <td>Govt_job</td>\n",
       "      <td>Urban</td>\n",
       "      <td>85.28</td>\n",
       "      <td>26.2</td>\n",
       "      <td>Unknown</td>\n",
       "      <td>0</td>\n",
       "      <td>False</td>\n",
       "      <td>Adult</td>\n",
       "      <td>Low</td>\n",
       "      <td>Overweight</td>\n",
       "    </tr>\n",
       "  </tbody>\n",
       "</table>\n",
       "<p>5110 rows × 16 columns</p>\n",
       "</div>"
      ],
      "text/plain": [
       "         id  gender   age  hypertension  heart_disease ever_married  \\\n",
       "0      9046    Male  67.0             0              1          Yes   \n",
       "1     51676  Female  61.0             0              0          Yes   \n",
       "2     31112    Male  80.0             0              1          Yes   \n",
       "3     60182  Female  49.0             0              0          Yes   \n",
       "4      1665  Female  79.0             1              0          Yes   \n",
       "...     ...     ...   ...           ...            ...          ...   \n",
       "5105  18234  Female  80.0             1              0          Yes   \n",
       "5106  44873  Female  81.0             0              0          Yes   \n",
       "5107  19723  Female  35.0             0              0          Yes   \n",
       "5108  37544    Male  51.0             0              0          Yes   \n",
       "5109  44679  Female  44.0             0              0          Yes   \n",
       "\n",
       "          work_type Residence_type  avg_glucose_level   bmi   smoking_status  \\\n",
       "0           Private          Urban             228.69  36.6  formerly smoked   \n",
       "1     Self-employed          Rural             202.21  28.1     never smoked   \n",
       "2           Private          Rural             105.92  32.5     never smoked   \n",
       "3           Private          Urban             171.23  34.4           smokes   \n",
       "4     Self-employed          Rural             174.12  24.0     never smoked   \n",
       "...             ...            ...                ...   ...              ...   \n",
       "5105        Private          Urban              83.75  28.1     never smoked   \n",
       "5106  Self-employed          Urban             125.20  40.0     never smoked   \n",
       "5107  Self-employed          Rural              82.99  30.6     never smoked   \n",
       "5108        Private          Rural             166.29  25.6  formerly smoked   \n",
       "5109       Govt_job          Urban              85.28  26.2          Unknown   \n",
       "\n",
       "      stroke  missing bmi age_category glucose_category bmi_category  \n",
       "0          1        False       Senior        Very High        Obese  \n",
       "1          1         True       Senior        Very High   Overweight  \n",
       "2          1        False       Senior           Normal        Obese  \n",
       "3          1        False        Adult             High        Obese  \n",
       "4          1        False       Senior             High       Normal  \n",
       "...      ...          ...          ...              ...          ...  \n",
       "5105       0         True       Senior              Low   Overweight  \n",
       "5106       0        False       Senior           Normal        Obese  \n",
       "5107       0        False  Young Adult              Low        Obese  \n",
       "5108       0        False        Adult             High   Overweight  \n",
       "5109       0        False        Adult              Low   Overweight  \n",
       "\n",
       "[5110 rows x 16 columns]"
      ]
     },
     "execution_count": 28,
     "metadata": {},
     "output_type": "execute_result"
    }
   ],
   "source": [
    "df_copy=df.copy()\n",
    "df_copy"
   ]
  },
  {
   "cell_type": "code",
   "execution_count": 29,
   "id": "1c13356c",
   "metadata": {},
   "outputs": [],
   "source": [
    "from sklearn.preprocessing import (StandardScaler,\n",
    "                                   LabelEncoder,\n",
    "                                   OneHotEncoder)"
   ]
  },
  {
   "cell_type": "code",
   "execution_count": 30,
   "id": "bd0a9a02",
   "metadata": {},
   "outputs": [],
   "source": [
    "df_copy.drop(columns = ['id'],inplace=True)"
   ]
  },
  {
   "cell_type": "code",
   "execution_count": 31,
   "id": "018ff238",
   "metadata": {},
   "outputs": [],
   "source": [
    "# preprocessing - label enconding and numerical value scaling\n",
    "ohe = OneHotEncoder()\n",
    "ss = StandardScaler()\n",
    "le = LabelEncoder()\n"
   ]
  },
  {
   "cell_type": "code",
   "execution_count": 32,
   "id": "cd7aefde",
   "metadata": {},
   "outputs": [],
   "source": [
    "## label encoding of ordinal categorical features\n",
    "for col in df_copy.columns:\n",
    "    df_copy[col] = le.fit_transform(df_copy[col])"
   ]
  },
  {
   "cell_type": "code",
   "execution_count": 33,
   "id": "ab6f3a40",
   "metadata": {},
   "outputs": [],
   "source": [
    "X = df_copy.drop(columns=['stroke'])\n",
    "y = df_copy['stroke'].copy()"
   ]
  },
  {
   "cell_type": "code",
   "execution_count": 34,
   "id": "f30fc474",
   "metadata": {},
   "outputs": [
    {
     "data": {
      "image/png": "[encoded data removed]",
      "text/plain": [
       "<Figure size 1296x1296 with 2 Axes>"
      ]
     },
     "metadata": {
      "needs_background": "light"
     },
     "output_type": "display_data"
    }
   ],
   "source": [
    "corr_df = X.corr()\n",
    "\n",
    "mask = np.triu(corr_df)\n",
    "\n",
    "plt.figure(figsize=(18, 18))\n",
    "sns.heatmap(corr_df.round(2), mask=mask, cmap='coolwarm', annot=True)\n",
    "plt.show()"
   ]
  },
  {
   "cell_type": "markdown",
   "id": "84ed47f7",
   "metadata": {},
   "source": [
    "###### check same for standard scaler"
   ]
  },
  {
   "cell_type": "code",
   "execution_count": 35,
   "id": "c3d6628c",
   "metadata": {},
   "outputs": [
    {
     "data": {
      "image/png": "[encoded data removed]",
      "text/plain": [
       "<Figure size 1296x1296 with 2 Axes>"
      ]
     },
     "metadata": {
      "needs_background": "light"
     },
     "output_type": "display_data"
    }
   ],
   "source": [
    "cols = df_copy.columns\n",
    "## normalizing with standard scaler of numerical features\n",
    "df_copy[cols] = ss.fit_transform(df_copy[cols])\n",
    "\n",
    "X = df_copy.drop(columns=['stroke'])\n",
    "y = df_copy['stroke'].copy()\n",
    "\n",
    "corr_df = X.corr()\n",
    "\n",
    "mask = np.triu(corr_df)\n",
    "\n",
    "plt.figure(figsize=(18, 18))\n",
    "sns.heatmap(corr_df.round(2), mask=mask, cmap='coolwarm', annot=True)\n",
    "plt.show()"
   ]
  },
  {
   "cell_type": "code",
   "execution_count": 36,
   "id": "de0de68f",
   "metadata": {},
   "outputs": [
    {
     "data": {
      "text/html": [
       "<div>\n",
       "<style scoped>\n",
       "    .dataframe tbody tr th:only-of-type {\n",
       "        vertical-align: middle;\n",
       "    }\n",
       "\n",
       "    .dataframe tbody tr th {\n",
       "        vertical-align: top;\n",
       "    }\n",
       "\n",
       "    .dataframe thead th {\n",
       "        text-align: right;\n",
       "    }\n",
       "</style>\n",
       "<table border=\"1\" class=\"dataframe\">\n",
       "  <thead>\n",
       "    <tr style=\"text-align: right;\">\n",
       "      <th></th>\n",
       "      <th>gender</th>\n",
       "      <th>age</th>\n",
       "      <th>hypertension</th>\n",
       "      <th>heart_disease</th>\n",
       "      <th>ever_married</th>\n",
       "      <th>work_type</th>\n",
       "      <th>Residence_type</th>\n",
       "      <th>avg_glucose_level</th>\n",
       "      <th>bmi</th>\n",
       "      <th>smoking_status</th>\n",
       "      <th>stroke</th>\n",
       "      <th>missing bmi</th>\n",
       "      <th>age_category</th>\n",
       "      <th>glucose_category</th>\n",
       "      <th>bmi_category</th>\n",
       "    </tr>\n",
       "  </thead>\n",
       "  <tbody>\n",
       "    <tr>\n",
       "      <th>0</th>\n",
       "      <td>1.188073</td>\n",
       "      <td>1.039513</td>\n",
       "      <td>-0.328602</td>\n",
       "      <td>4.185032</td>\n",
       "      <td>0.723884</td>\n",
       "      <td>-0.153836</td>\n",
       "      <td>0.984080</td>\n",
       "      <td>1.780170</td>\n",
       "      <td>1.062020</td>\n",
       "      <td>-0.351781</td>\n",
       "      <td>4.418381</td>\n",
       "      <td>-0.202349</td>\n",
       "      <td>0.636614</td>\n",
       "      <td>2.036140</td>\n",
       "      <td>-0.230858</td>\n",
       "    </tr>\n",
       "    <tr>\n",
       "      <th>1</th>\n",
       "      <td>-0.840344</td>\n",
       "      <td>0.779567</td>\n",
       "      <td>-0.328602</td>\n",
       "      <td>-0.238947</td>\n",
       "      <td>0.723884</td>\n",
       "      <td>0.763438</td>\n",
       "      <td>-1.016178</td>\n",
       "      <td>1.543029</td>\n",
       "      <td>-0.092500</td>\n",
       "      <td>0.581552</td>\n",
       "      <td>4.418381</td>\n",
       "      <td>4.941952</td>\n",
       "      <td>0.636614</td>\n",
       "      <td>2.036140</td>\n",
       "      <td>0.892652</td>\n",
       "    </tr>\n",
       "    <tr>\n",
       "      <th>2</th>\n",
       "      <td>1.188073</td>\n",
       "      <td>1.602729</td>\n",
       "      <td>-0.328602</td>\n",
       "      <td>4.185032</td>\n",
       "      <td>0.723884</td>\n",
       "      <td>-0.153836</td>\n",
       "      <td>-1.016178</td>\n",
       "      <td>0.542872</td>\n",
       "      <td>0.505134</td>\n",
       "      <td>0.581552</td>\n",
       "      <td>4.418381</td>\n",
       "      <td>-0.202349</td>\n",
       "      <td>0.636614</td>\n",
       "      <td>0.711547</td>\n",
       "      <td>-0.230858</td>\n",
       "    </tr>\n",
       "    <tr>\n",
       "      <th>3</th>\n",
       "      <td>-0.840344</td>\n",
       "      <td>0.259675</td>\n",
       "      <td>-0.328602</td>\n",
       "      <td>-0.238947</td>\n",
       "      <td>0.723884</td>\n",
       "      <td>-0.153836</td>\n",
       "      <td>0.984080</td>\n",
       "      <td>1.359290</td>\n",
       "      <td>0.763203</td>\n",
       "      <td>1.514885</td>\n",
       "      <td>4.418381</td>\n",
       "      <td>-0.202349</td>\n",
       "      <td>-1.099760</td>\n",
       "      <td>-1.937638</td>\n",
       "      <td>-0.230858</td>\n",
       "    </tr>\n",
       "    <tr>\n",
       "      <th>4</th>\n",
       "      <td>-0.840344</td>\n",
       "      <td>1.559405</td>\n",
       "      <td>3.043196</td>\n",
       "      <td>-0.238947</td>\n",
       "      <td>0.723884</td>\n",
       "      <td>0.763438</td>\n",
       "      <td>-1.016178</td>\n",
       "      <td>1.367436</td>\n",
       "      <td>-0.649386</td>\n",
       "      <td>0.581552</td>\n",
       "      <td>4.418381</td>\n",
       "      <td>-0.202349</td>\n",
       "      <td>0.636614</td>\n",
       "      <td>-1.937638</td>\n",
       "      <td>-1.354368</td>\n",
       "    </tr>\n",
       "  </tbody>\n",
       "</table>\n",
       "</div>"
      ],
      "text/plain": [
       "     gender       age  hypertension  heart_disease  ever_married  work_type  \\\n",
       "0  1.188073  1.039513     -0.328602       4.185032      0.723884  -0.153836   \n",
       "1 -0.840344  0.779567     -0.328602      -0.238947      0.723884   0.763438   \n",
       "2  1.188073  1.602729     -0.328602       4.185032      0.723884  -0.153836   \n",
       "3 -0.840344  0.259675     -0.328602      -0.238947      0.723884  -0.153836   \n",
       "4 -0.840344  1.559405      3.043196      -0.238947      0.723884   0.763438   \n",
       "\n",
       "   Residence_type  avg_glucose_level       bmi  smoking_status    stroke  \\\n",
       "0        0.984080           1.780170  1.062020       -0.351781  4.418381   \n",
       "1       -1.016178           1.543029 -0.092500        0.581552  4.418381   \n",
       "2       -1.016178           0.542872  0.505134        0.581552  4.418381   \n",
       "3        0.984080           1.359290  0.763203        1.514885  4.418381   \n",
       "4       -1.016178           1.367436 -0.649386        0.581552  4.418381   \n",
       "\n",
       "   missing bmi  age_category  glucose_category  bmi_category  \n",
       "0    -0.202349      0.636614          2.036140     -0.230858  \n",
       "1     4.941952      0.636614          2.036140      0.892652  \n",
       "2    -0.202349      0.636614          0.711547     -0.230858  \n",
       "3    -0.202349     -1.099760         -1.937638     -0.230858  \n",
       "4    -0.202349      0.636614         -1.937638     -1.354368  "
      ]
     },
     "execution_count": 36,
     "metadata": {},
     "output_type": "execute_result"
    }
   ],
   "source": [
    "df_copy.head()"
   ]
  },
  {
   "cell_type": "code",
   "execution_count": 37,
   "id": "422e6941",
   "metadata": {},
   "outputs": [
    {
     "data": {
      "text/html": [
       "<div>\n",
       "<style scoped>\n",
       "    .dataframe tbody tr th:only-of-type {\n",
       "        vertical-align: middle;\n",
       "    }\n",
       "\n",
       "    .dataframe tbody tr th {\n",
       "        vertical-align: top;\n",
       "    }\n",
       "\n",
       "    .dataframe thead th {\n",
       "        text-align: right;\n",
       "    }\n",
       "</style>\n",
       "<table border=\"1\" class=\"dataframe\">\n",
       "  <thead>\n",
       "    <tr style=\"text-align: right;\">\n",
       "      <th></th>\n",
       "      <th>id</th>\n",
       "      <th>gender</th>\n",
       "      <th>age</th>\n",
       "      <th>hypertension</th>\n",
       "      <th>heart_disease</th>\n",
       "      <th>ever_married</th>\n",
       "      <th>work_type</th>\n",
       "      <th>Residence_type</th>\n",
       "      <th>avg_glucose_level</th>\n",
       "      <th>bmi</th>\n",
       "      <th>smoking_status</th>\n",
       "      <th>stroke</th>\n",
       "      <th>missing bmi</th>\n",
       "      <th>age_category</th>\n",
       "      <th>glucose_category</th>\n",
       "      <th>bmi_category</th>\n",
       "    </tr>\n",
       "  </thead>\n",
       "  <tbody>\n",
       "    <tr>\n",
       "      <th>0</th>\n",
       "      <td>9046</td>\n",
       "      <td>Male</td>\n",
       "      <td>67.0</td>\n",
       "      <td>0</td>\n",
       "      <td>1</td>\n",
       "      <td>Yes</td>\n",
       "      <td>Private</td>\n",
       "      <td>Urban</td>\n",
       "      <td>228.69</td>\n",
       "      <td>36.6</td>\n",
       "      <td>formerly smoked</td>\n",
       "      <td>1</td>\n",
       "      <td>False</td>\n",
       "      <td>Senior</td>\n",
       "      <td>Very High</td>\n",
       "      <td>Obese</td>\n",
       "    </tr>\n",
       "    <tr>\n",
       "      <th>1</th>\n",
       "      <td>51676</td>\n",
       "      <td>Female</td>\n",
       "      <td>61.0</td>\n",
       "      <td>0</td>\n",
       "      <td>0</td>\n",
       "      <td>Yes</td>\n",
       "      <td>Self-employed</td>\n",
       "      <td>Rural</td>\n",
       "      <td>202.21</td>\n",
       "      <td>28.1</td>\n",
       "      <td>never smoked</td>\n",
       "      <td>1</td>\n",
       "      <td>True</td>\n",
       "      <td>Senior</td>\n",
       "      <td>Very High</td>\n",
       "      <td>Overweight</td>\n",
       "    </tr>\n",
       "    <tr>\n",
       "      <th>2</th>\n",
       "      <td>31112</td>\n",
       "      <td>Male</td>\n",
       "      <td>80.0</td>\n",
       "      <td>0</td>\n",
       "      <td>1</td>\n",
       "      <td>Yes</td>\n",
       "      <td>Private</td>\n",
       "      <td>Rural</td>\n",
       "      <td>105.92</td>\n",
       "      <td>32.5</td>\n",
       "      <td>never smoked</td>\n",
       "      <td>1</td>\n",
       "      <td>False</td>\n",
       "      <td>Senior</td>\n",
       "      <td>Normal</td>\n",
       "      <td>Obese</td>\n",
       "    </tr>\n",
       "    <tr>\n",
       "      <th>3</th>\n",
       "      <td>60182</td>\n",
       "      <td>Female</td>\n",
       "      <td>49.0</td>\n",
       "      <td>0</td>\n",
       "      <td>0</td>\n",
       "      <td>Yes</td>\n",
       "      <td>Private</td>\n",
       "      <td>Urban</td>\n",
       "      <td>171.23</td>\n",
       "      <td>34.4</td>\n",
       "      <td>smokes</td>\n",
       "      <td>1</td>\n",
       "      <td>False</td>\n",
       "      <td>Adult</td>\n",
       "      <td>High</td>\n",
       "      <td>Obese</td>\n",
       "    </tr>\n",
       "    <tr>\n",
       "      <th>4</th>\n",
       "      <td>1665</td>\n",
       "      <td>Female</td>\n",
       "      <td>79.0</td>\n",
       "      <td>1</td>\n",
       "      <td>0</td>\n",
       "      <td>Yes</td>\n",
       "      <td>Self-employed</td>\n",
       "      <td>Rural</td>\n",
       "      <td>174.12</td>\n",
       "      <td>24.0</td>\n",
       "      <td>never smoked</td>\n",
       "      <td>1</td>\n",
       "      <td>False</td>\n",
       "      <td>Senior</td>\n",
       "      <td>High</td>\n",
       "      <td>Normal</td>\n",
       "    </tr>\n",
       "  </tbody>\n",
       "</table>\n",
       "</div>"
      ],
      "text/plain": [
       "      id  gender   age  hypertension  heart_disease ever_married  \\\n",
       "0   9046    Male  67.0             0              1          Yes   \n",
       "1  51676  Female  61.0             0              0          Yes   \n",
       "2  31112    Male  80.0             0              1          Yes   \n",
       "3  60182  Female  49.0             0              0          Yes   \n",
       "4   1665  Female  79.0             1              0          Yes   \n",
       "\n",
       "       work_type Residence_type  avg_glucose_level   bmi   smoking_status  \\\n",
       "0        Private          Urban             228.69  36.6  formerly smoked   \n",
       "1  Self-employed          Rural             202.21  28.1     never smoked   \n",
       "2        Private          Rural             105.92  32.5     never smoked   \n",
       "3        Private          Urban             171.23  34.4           smokes   \n",
       "4  Self-employed          Rural             174.12  24.0     never smoked   \n",
       "\n",
       "   stroke  missing bmi age_category glucose_category bmi_category  \n",
       "0       1        False       Senior        Very High        Obese  \n",
       "1       1         True       Senior        Very High   Overweight  \n",
       "2       1        False       Senior           Normal        Obese  \n",
       "3       1        False        Adult             High        Obese  \n",
       "4       1        False       Senior             High       Normal  "
      ]
     },
     "execution_count": 37,
     "metadata": {},
     "output_type": "execute_result"
    }
   ],
   "source": [
    "df.head()"
   ]
  },
  {
   "cell_type": "code",
   "execution_count": 109,
   "id": "c47f66c1",
   "metadata": {},
   "outputs": [],
   "source": [
    "df_copy1 = df.copy()"
   ]
  },
  {
   "cell_type": "markdown",
   "id": "d781497a",
   "metadata": {},
   "source": [
    "### Now we can apply feature engineering on df_copy1"
   ]
  },
  {
   "cell_type": "code",
   "execution_count": 110,
   "id": "bc8e113e",
   "metadata": {},
   "outputs": [],
   "source": [
    "df_copy1.drop(columns = ['id'],inplace=True)"
   ]
  },
  {
   "cell_type": "code",
   "execution_count": 111,
   "id": "c4dccc88",
   "metadata": {
    "scrolled": false
   },
   "outputs": [
    {
     "data": {
      "text/html": [
       "<div>\n",
       "<style scoped>\n",
       "    .dataframe tbody tr th:only-of-type {\n",
       "        vertical-align: middle;\n",
       "    }\n",
       "\n",
       "    .dataframe tbody tr th {\n",
       "        vertical-align: top;\n",
       "    }\n",
       "\n",
       "    .dataframe thead th {\n",
       "        text-align: right;\n",
       "    }\n",
       "</style>\n",
       "<table border=\"1\" class=\"dataframe\">\n",
       "  <thead>\n",
       "    <tr style=\"text-align: right;\">\n",
       "      <th></th>\n",
       "      <th>gender</th>\n",
       "      <th>age</th>\n",
       "      <th>hypertension</th>\n",
       "      <th>heart_disease</th>\n",
       "      <th>ever_married</th>\n",
       "      <th>work_type</th>\n",
       "      <th>Residence_type</th>\n",
       "      <th>avg_glucose_level</th>\n",
       "      <th>bmi</th>\n",
       "      <th>smoking_status</th>\n",
       "      <th>stroke</th>\n",
       "      <th>missing bmi</th>\n",
       "      <th>age_category</th>\n",
       "      <th>glucose_category</th>\n",
       "      <th>bmi_category</th>\n",
       "    </tr>\n",
       "  </thead>\n",
       "  <tbody>\n",
       "    <tr>\n",
       "      <th>5105</th>\n",
       "      <td>Female</td>\n",
       "      <td>80.0</td>\n",
       "      <td>1</td>\n",
       "      <td>0</td>\n",
       "      <td>Yes</td>\n",
       "      <td>Private</td>\n",
       "      <td>Urban</td>\n",
       "      <td>83.75</td>\n",
       "      <td>28.1</td>\n",
       "      <td>never smoked</td>\n",
       "      <td>0</td>\n",
       "      <td>True</td>\n",
       "      <td>Senior</td>\n",
       "      <td>Low</td>\n",
       "      <td>Overweight</td>\n",
       "    </tr>\n",
       "    <tr>\n",
       "      <th>5106</th>\n",
       "      <td>Female</td>\n",
       "      <td>81.0</td>\n",
       "      <td>0</td>\n",
       "      <td>0</td>\n",
       "      <td>Yes</td>\n",
       "      <td>Self-employed</td>\n",
       "      <td>Urban</td>\n",
       "      <td>125.20</td>\n",
       "      <td>40.0</td>\n",
       "      <td>never smoked</td>\n",
       "      <td>0</td>\n",
       "      <td>False</td>\n",
       "      <td>Senior</td>\n",
       "      <td>Normal</td>\n",
       "      <td>Obese</td>\n",
       "    </tr>\n",
       "    <tr>\n",
       "      <th>5107</th>\n",
       "      <td>Female</td>\n",
       "      <td>35.0</td>\n",
       "      <td>0</td>\n",
       "      <td>0</td>\n",
       "      <td>Yes</td>\n",
       "      <td>Self-employed</td>\n",
       "      <td>Rural</td>\n",
       "      <td>82.99</td>\n",
       "      <td>30.6</td>\n",
       "      <td>never smoked</td>\n",
       "      <td>0</td>\n",
       "      <td>False</td>\n",
       "      <td>Young Adult</td>\n",
       "      <td>Low</td>\n",
       "      <td>Obese</td>\n",
       "    </tr>\n",
       "    <tr>\n",
       "      <th>5108</th>\n",
       "      <td>Male</td>\n",
       "      <td>51.0</td>\n",
       "      <td>0</td>\n",
       "      <td>0</td>\n",
       "      <td>Yes</td>\n",
       "      <td>Private</td>\n",
       "      <td>Rural</td>\n",
       "      <td>166.29</td>\n",
       "      <td>25.6</td>\n",
       "      <td>formerly smoked</td>\n",
       "      <td>0</td>\n",
       "      <td>False</td>\n",
       "      <td>Adult</td>\n",
       "      <td>High</td>\n",
       "      <td>Overweight</td>\n",
       "    </tr>\n",
       "    <tr>\n",
       "      <th>5109</th>\n",
       "      <td>Female</td>\n",
       "      <td>44.0</td>\n",
       "      <td>0</td>\n",
       "      <td>0</td>\n",
       "      <td>Yes</td>\n",
       "      <td>Govt_job</td>\n",
       "      <td>Urban</td>\n",
       "      <td>85.28</td>\n",
       "      <td>26.2</td>\n",
       "      <td>Unknown</td>\n",
       "      <td>0</td>\n",
       "      <td>False</td>\n",
       "      <td>Adult</td>\n",
       "      <td>Low</td>\n",
       "      <td>Overweight</td>\n",
       "    </tr>\n",
       "  </tbody>\n",
       "</table>\n",
       "</div>"
      ],
      "text/plain": [
       "      gender   age  hypertension  heart_disease ever_married      work_type  \\\n",
       "5105  Female  80.0             1              0          Yes        Private   \n",
       "5106  Female  81.0             0              0          Yes  Self-employed   \n",
       "5107  Female  35.0             0              0          Yes  Self-employed   \n",
       "5108    Male  51.0             0              0          Yes        Private   \n",
       "5109  Female  44.0             0              0          Yes       Govt_job   \n",
       "\n",
       "     Residence_type  avg_glucose_level   bmi   smoking_status  stroke  \\\n",
       "5105          Urban              83.75  28.1     never smoked       0   \n",
       "5106          Urban             125.20  40.0     never smoked       0   \n",
       "5107          Rural              82.99  30.6     never smoked       0   \n",
       "5108          Rural             166.29  25.6  formerly smoked       0   \n",
       "5109          Urban              85.28  26.2          Unknown       0   \n",
       "\n",
       "      missing bmi age_category glucose_category bmi_category  \n",
       "5105         True       Senior              Low   Overweight  \n",
       "5106        False       Senior           Normal        Obese  \n",
       "5107        False  Young Adult              Low        Obese  \n",
       "5108        False        Adult             High   Overweight  \n",
       "5109        False        Adult              Low   Overweight  "
      ]
     },
     "execution_count": 111,
     "metadata": {},
     "output_type": "execute_result"
    }
   ],
   "source": [
    "df_copy1.tail()"
   ]
  },
  {
   "cell_type": "code",
   "execution_count": 112,
   "id": "673811de",
   "metadata": {},
   "outputs": [
    {
     "data": {
      "text/plain": [
       "gender\n",
       "Female    2994\n",
       "Male      2115\n",
       "Other        1\n",
       "Name: count, dtype: int64"
      ]
     },
     "execution_count": 112,
     "metadata": {},
     "output_type": "execute_result"
    }
   ],
   "source": [
    "df_copy1['gender'].value_counts()"
   ]
  },
  {
   "cell_type": "code",
   "execution_count": 113,
   "id": "15a14be2",
   "metadata": {},
   "outputs": [],
   "source": [
    "df_copy1['gender'] = df_copy1['gender'].map({'Male': 1, 'Female': 0, 'Other' : 0})"
   ]
  },
  {
   "cell_type": "code",
   "execution_count": 114,
   "id": "c9693c0d",
   "metadata": {},
   "outputs": [
    {
     "data": {
      "text/plain": [
       "bmi_category\n",
       "Obese          1893\n",
       "Overweight     1610\n",
       "Normal         1258\n",
       "Underweight     349\n",
       "Name: count, dtype: int64"
      ]
     },
     "execution_count": 114,
     "metadata": {},
     "output_type": "execute_result"
    }
   ],
   "source": [
    "df_copy1['bmi_category'].value_counts()"
   ]
  },
  {
   "cell_type": "code",
   "execution_count": 115,
   "id": "e62a2d48",
   "metadata": {},
   "outputs": [],
   "source": [
    "df_copy1['bmi_category'] = df_copy1['bmi_category'].map({\n",
    "    'Underweight' : 1,\n",
    "    'Normal' : 2,\n",
    "    'Overweight' : 3,\n",
    "    'Obese' : 4\n",
    "            })"
   ]
  },
  {
   "cell_type": "code",
   "execution_count": 116,
   "id": "ebe519f9",
   "metadata": {},
   "outputs": [
    {
     "data": {
      "text/plain": [
       "glucose_category\n",
       "Low          2405\n",
       "Normal       1884\n",
       "Very High     434\n",
       "High          387\n",
       "Name: count, dtype: int64"
      ]
     },
     "execution_count": 116,
     "metadata": {},
     "output_type": "execute_result"
    }
   ],
   "source": [
    "df_copy1['glucose_category'].value_counts()"
   ]
  },
  {
   "cell_type": "code",
   "execution_count": 117,
   "id": "cf0e43b0",
   "metadata": {},
   "outputs": [],
   "source": [
    "df_copy1['glucose_category'] = df_copy1['glucose_category'].map({\n",
    "'Low' : 1,\n",
    "'Normal' : 2,\n",
    "'High' : 3,\n",
    "'Very High' : 4\n",
    "})"
   ]
  },
  {
   "cell_type": "code",
   "execution_count": 118,
   "id": "db88671f",
   "metadata": {},
   "outputs": [
    {
     "data": {
      "text/plain": [
       "age_category\n",
       "Adult          1907\n",
       "Senior         1304\n",
       "Young Adult     983\n",
       "Child           916\n",
       "Name: count, dtype: int64"
      ]
     },
     "execution_count": 118,
     "metadata": {},
     "output_type": "execute_result"
    }
   ],
   "source": [
    "df_copy1['age_category'].value_counts()"
   ]
  },
  {
   "cell_type": "code",
   "execution_count": 119,
   "id": "5e361a6c",
   "metadata": {},
   "outputs": [],
   "source": [
    "df_copy1['age_category'] = df_copy1['age_category'].map({\n",
    "'Senior' : 4, \n",
    "'Adult' : 3,\n",
    "'Young Adult' : 2,\n",
    "'Child' : 1\n",
    "})"
   ]
  },
  {
   "cell_type": "code",
   "execution_count": 120,
   "id": "015340fc",
   "metadata": {},
   "outputs": [
    {
     "data": {
      "text/plain": [
       "smoking_status\n",
       "never smoked       1892\n",
       "Unknown            1544\n",
       "formerly smoked     885\n",
       "smokes              789\n",
       "Name: count, dtype: int64"
      ]
     },
     "execution_count": 120,
     "metadata": {},
     "output_type": "execute_result"
    }
   ],
   "source": [
    "df_copy1['smoking_status'].value_counts()"
   ]
  },
  {
   "cell_type": "code",
   "execution_count": 121,
   "id": "80f0810b",
   "metadata": {},
   "outputs": [],
   "source": [
    "df_copy1['smoking_status'] = df_copy1['smoking_status'].map({\n",
    "'never smoked' : 3,\n",
    "'Unknown' : 4,\n",
    "'formerly smoked' :1,\n",
    "'smokes' : 2\n",
    "})"
   ]
  },
  {
   "cell_type": "code",
   "execution_count": 122,
   "id": "77f18590",
   "metadata": {},
   "outputs": [
    {
     "data": {
      "text/plain": [
       "Residence_type\n",
       "Urban    2596\n",
       "Rural    2514\n",
       "Name: count, dtype: int64"
      ]
     },
     "execution_count": 122,
     "metadata": {},
     "output_type": "execute_result"
    }
   ],
   "source": [
    "df_copy1['Residence_type'].value_counts()"
   ]
  },
  {
   "cell_type": "code",
   "execution_count": 123,
   "id": "d79eea81",
   "metadata": {},
   "outputs": [],
   "source": [
    "df_copy1['Residence_type'] = df_copy1['Residence_type'].map({'Urban': 1, 'Rural': 0})"
   ]
  },
  {
   "cell_type": "code",
   "execution_count": 124,
   "id": "5cdce384",
   "metadata": {},
   "outputs": [
    {
     "data": {
      "text/plain": [
       "work_type\n",
       "Private          2925\n",
       "Self-employed     819\n",
       "children          687\n",
       "Govt_job          657\n",
       "Never_worked       22\n",
       "Name: count, dtype: int64"
      ]
     },
     "execution_count": 124,
     "metadata": {},
     "output_type": "execute_result"
    }
   ],
   "source": [
    "df_copy1['work_type'].value_counts()"
   ]
  },
  {
   "cell_type": "markdown",
   "id": "5f7d9bf2",
   "metadata": {},
   "source": [
    "5 category in work type, never worked and child better to be a category"
   ]
  },
  {
   "cell_type": "code",
   "execution_count": 125,
   "id": "08f7eb61",
   "metadata": {},
   "outputs": [],
   "source": [
    "df_copy1['work_type'] = df_copy1['work_type'].map({\n",
    "'Private' : 1,\n",
    "'Self-employed' : 2,\n",
    "'children' : 3,\n",
    "'Govt_job' : 4,\n",
    "'Never_worked' : 3\n",
    "})"
   ]
  },
  {
   "cell_type": "code",
   "execution_count": null,
   "id": "464c16d3",
   "metadata": {},
   "outputs": [],
   "source": []
  },
  {
   "cell_type": "code",
   "execution_count": 126,
   "id": "41955584",
   "metadata": {},
   "outputs": [
    {
     "data": {
      "text/plain": [
       "ever_married\n",
       "Yes    3353\n",
       "No     1757\n",
       "Name: count, dtype: int64"
      ]
     },
     "execution_count": 126,
     "metadata": {},
     "output_type": "execute_result"
    }
   ],
   "source": [
    "df_copy1['ever_married'].value_counts()"
   ]
  },
  {
   "cell_type": "code",
   "execution_count": 127,
   "id": "bbd4ce07",
   "metadata": {},
   "outputs": [],
   "source": [
    "df_copy1['ever_married'] = df_copy1['ever_married'].map({'Yes': 1, 'No': 0})"
   ]
  },
  {
   "cell_type": "code",
   "execution_count": null,
   "id": "5ddbb5af",
   "metadata": {},
   "outputs": [],
   "source": []
  },
  {
   "cell_type": "code",
   "execution_count": 128,
   "id": "cdfa823b",
   "metadata": {},
   "outputs": [
    {
     "data": {
      "text/plain": [
       "Ellipsis"
      ]
     },
     "execution_count": 128,
     "metadata": {},
     "output_type": "execute_result"
    }
   ],
   "source": [
    "..."
   ]
  },
  {
   "cell_type": "code",
   "execution_count": 129,
   "id": "17a68abe",
   "metadata": {},
   "outputs": [
    {
     "data": {
      "text/plain": [
       "gender               0\n",
       "age                  0\n",
       "hypertension         0\n",
       "heart_disease        0\n",
       "ever_married         0\n",
       "work_type            0\n",
       "Residence_type       0\n",
       "avg_glucose_level    0\n",
       "bmi                  0\n",
       "smoking_status       0\n",
       "stroke               0\n",
       "missing bmi          0\n",
       "age_category         0\n",
       "glucose_category     0\n",
       "bmi_category         0\n",
       "dtype: int64"
      ]
     },
     "execution_count": 129,
     "metadata": {},
     "output_type": "execute_result"
    }
   ],
   "source": [
    "df_copy1.isna().sum()"
   ]
  },
  {
   "cell_type": "code",
   "execution_count": null,
   "id": "52d92a68",
   "metadata": {},
   "outputs": [],
   "source": []
  },
  {
   "cell_type": "code",
   "execution_count": 171,
   "id": "bf33924c",
   "metadata": {},
   "outputs": [],
   "source": [
    "X = df_copy1.drop(columns=['stroke'])\n",
    "y = df_copy1['stroke'].copy()"
   ]
  },
  {
   "cell_type": "code",
   "execution_count": 172,
   "id": "eba1ee63",
   "metadata": {},
   "outputs": [
    {
     "data": {
      "image/png": "[encoded data removed]",
      "text/plain": [
       "<Figure size 1296x1296 with 2 Axes>"
      ]
     },
     "metadata": {
      "needs_background": "light"
     },
     "output_type": "display_data"
    }
   ],
   "source": [
    "corr_df = X.corr()\n",
    "\n",
    "mask = np.triu(corr_df)\n",
    "\n",
    "plt.figure(figsize=(18, 18))\n",
    "sns.heatmap(corr_df.round(2), mask=mask, cmap='coolwarm', annot=True)\n",
    "plt.show()"
   ]
  },
  {
   "cell_type": "code",
   "execution_count": 131,
   "id": "b20e90e5",
   "metadata": {},
   "outputs": [
    {
     "name": "stdout",
     "output_type": "stream",
     "text": [
      "(4088, 14) (1022, 14) (4088,) (1022,)\n"
     ]
    }
   ],
   "source": [
    "# Splitting our data\n",
    "X_train, X_test, y_train, y_test = train_test_split(X,\n",
    "                                                    y,\n",
    "                                                    test_size=0.2,\n",
    "                                                    random_state=12345,\n",
    "                                                    stratify=y)\n",
    "\n",
    "# Check\n",
    "print(X_train.shape, X_test.shape, y_train.shape, y_test.shape)"
   ]
  },
  {
   "cell_type": "code",
   "execution_count": 132,
   "id": "9c2c602b",
   "metadata": {},
   "outputs": [],
   "source": [
    "# Apply SMOTE to the training set\n",
    "smote = SMOTE()\n",
    "X_train_sam, y_train_sam = smote.fit_resample(X_train, y_train)"
   ]
  },
  {
   "cell_type": "code",
   "execution_count": 133,
   "id": "826cccb9",
   "metadata": {},
   "outputs": [
    {
     "name": "stdout",
     "output_type": "stream",
     "text": [
      "(4088, 14) (1022, 14) (4088,) (1022,)\n"
     ]
    }
   ],
   "source": [
    "# Check\n",
    "print(X_train.shape, X_test.shape, y_train.shape, y_test.shape)"
   ]
  },
  {
   "cell_type": "code",
   "execution_count": null,
   "id": "fbb7d25a",
   "metadata": {},
   "outputs": [],
   "source": []
  },
  {
   "cell_type": "code",
   "execution_count": 134,
   "id": "4b89b3f0",
   "metadata": {},
   "outputs": [
    {
     "name": "stdout",
     "output_type": "stream",
     "text": [
      "(7778, 14) (1022, 14) (7778,) (1022,)\n"
     ]
    }
   ],
   "source": [
    "print(X_train_sam.shape, X_test.shape, y_train_sam.shape, y_test.shape)"
   ]
  },
  {
   "cell_type": "code",
   "execution_count": 135,
   "id": "12f6276c",
   "metadata": {},
   "outputs": [],
   "source": [
    "X_train_sam.drop(columns=['age_category','glucose_category','bmi_category'],inplace=True)\n",
    "X_test.drop(columns=['age_category','glucose_category','bmi_category'],inplace=True)"
   ]
  },
  {
   "cell_type": "code",
   "execution_count": 175,
   "id": "f1097a3e",
   "metadata": {},
   "outputs": [
    {
     "data": {
      "text/plain": [
       "gender               0\n",
       "age                  0\n",
       "hypertension         0\n",
       "heart_disease        0\n",
       "ever_married         0\n",
       "work_type            0\n",
       "Residence_type       0\n",
       "avg_glucose_level    0\n",
       "bmi                  0\n",
       "smoking_status       0\n",
       "missing bmi          0\n",
       "age_category         0\n",
       "glucose_category     0\n",
       "bmi_category         0\n",
       "dtype: int64"
      ]
     },
     "execution_count": 175,
     "metadata": {},
     "output_type": "execute_result"
    }
   ],
   "source": [
    "X_train_sam.isna().sum()"
   ]
  },
  {
   "cell_type": "code",
   "execution_count": 178,
   "id": "be17aaec",
   "metadata": {
    "scrolled": true
   },
   "outputs": [
    {
     "data": {
      "text/html": [
       "<div>\n",
       "<style scoped>\n",
       "    .dataframe tbody tr th:only-of-type {\n",
       "        vertical-align: middle;\n",
       "    }\n",
       "\n",
       "    .dataframe tbody tr th {\n",
       "        vertical-align: top;\n",
       "    }\n",
       "\n",
       "    .dataframe thead th {\n",
       "        text-align: right;\n",
       "    }\n",
       "</style>\n",
       "<table border=\"1\" class=\"dataframe\">\n",
       "  <thead>\n",
       "    <tr style=\"text-align: right;\">\n",
       "      <th></th>\n",
       "      <th>gender</th>\n",
       "      <th>age</th>\n",
       "      <th>hypertension</th>\n",
       "      <th>heart_disease</th>\n",
       "      <th>ever_married</th>\n",
       "      <th>work_type</th>\n",
       "      <th>Residence_type</th>\n",
       "      <th>avg_glucose_level</th>\n",
       "      <th>bmi</th>\n",
       "      <th>smoking_status</th>\n",
       "      <th>missing bmi</th>\n",
       "    </tr>\n",
       "  </thead>\n",
       "  <tbody>\n",
       "    <tr>\n",
       "      <th>4394</th>\n",
       "      <td>0</td>\n",
       "      <td>22.0</td>\n",
       "      <td>0</td>\n",
       "      <td>0</td>\n",
       "      <td>1</td>\n",
       "      <td>1</td>\n",
       "      <td>0</td>\n",
       "      <td>73.94</td>\n",
       "      <td>24.8</td>\n",
       "      <td>4</td>\n",
       "      <td>False</td>\n",
       "    </tr>\n",
       "    <tr>\n",
       "      <th>1781</th>\n",
       "      <td>0</td>\n",
       "      <td>39.0</td>\n",
       "      <td>0</td>\n",
       "      <td>0</td>\n",
       "      <td>1</td>\n",
       "      <td>1</td>\n",
       "      <td>1</td>\n",
       "      <td>92.82</td>\n",
       "      <td>37.4</td>\n",
       "      <td>3</td>\n",
       "      <td>False</td>\n",
       "    </tr>\n",
       "    <tr>\n",
       "      <th>3290</th>\n",
       "      <td>0</td>\n",
       "      <td>56.0</td>\n",
       "      <td>0</td>\n",
       "      <td>0</td>\n",
       "      <td>1</td>\n",
       "      <td>1</td>\n",
       "      <td>0</td>\n",
       "      <td>163.02</td>\n",
       "      <td>29.6</td>\n",
       "      <td>3</td>\n",
       "      <td>False</td>\n",
       "    </tr>\n",
       "    <tr>\n",
       "      <th>934</th>\n",
       "      <td>0</td>\n",
       "      <td>52.0</td>\n",
       "      <td>0</td>\n",
       "      <td>0</td>\n",
       "      <td>1</td>\n",
       "      <td>2</td>\n",
       "      <td>1</td>\n",
       "      <td>113.21</td>\n",
       "      <td>38.3</td>\n",
       "      <td>3</td>\n",
       "      <td>False</td>\n",
       "    </tr>\n",
       "    <tr>\n",
       "      <th>1141</th>\n",
       "      <td>1</td>\n",
       "      <td>57.0</td>\n",
       "      <td>0</td>\n",
       "      <td>0</td>\n",
       "      <td>1</td>\n",
       "      <td>1</td>\n",
       "      <td>0</td>\n",
       "      <td>90.06</td>\n",
       "      <td>29.8</td>\n",
       "      <td>4</td>\n",
       "      <td>False</td>\n",
       "    </tr>\n",
       "  </tbody>\n",
       "</table>\n",
       "</div>"
      ],
      "text/plain": [
       "      gender   age  hypertension  heart_disease  ever_married  work_type  \\\n",
       "4394       0  22.0             0              0             1          1   \n",
       "1781       0  39.0             0              0             1          1   \n",
       "3290       0  56.0             0              0             1          1   \n",
       "934        0  52.0             0              0             1          2   \n",
       "1141       1  57.0             0              0             1          1   \n",
       "\n",
       "      Residence_type  avg_glucose_level   bmi  smoking_status  missing bmi  \n",
       "4394               0              73.94  24.8               4        False  \n",
       "1781               1              92.82  37.4               3        False  \n",
       "3290               0             163.02  29.6               3        False  \n",
       "934                1             113.21  38.3               3        False  \n",
       "1141               0              90.06  29.8               4        False  "
      ]
     },
     "execution_count": 178,
     "metadata": {},
     "output_type": "execute_result"
    }
   ],
   "source": [
    "# Binning continuous features for better categorization\n",
    "X_train_sam['age_category'] = pd.cut(X_train_sam['age'], bins=[0, 18, 35, 60, 100], labels=['Child', 'Young Adult', 'Adult', 'Senior'])\n",
    "X_train_sam['glucose_category'] = pd.cut(X_train_sam['avg_glucose_level'], bins=[0, 90, 140, 200, 500], labels=['Low', 'Normal', 'High', 'Very High'])\n",
    "X_train_sam['bmi_category'] = pd.cut(X_train_sam['bmi'], bins=[0, 18.5, 25, 30, 100], labels=['Underweight', 'Normal', 'Overweight', 'Obese'])\n",
    "\n",
    "# Display the first few rows of the modified DataFrame\n",
    "X_train_sam.head()"
   ]
  },
  {
   "cell_type": "code",
   "execution_count": 179,
   "id": "c81cae05",
   "metadata": {
    "scrolled": true
   },
   "outputs": [
    {
     "data": {
      "text/html": [
       "<div>\n",
       "<style scoped>\n",
       "    .dataframe tbody tr th:only-of-type {\n",
       "        vertical-align: middle;\n",
       "    }\n",
       "\n",
       "    .dataframe tbody tr th {\n",
       "        vertical-align: top;\n",
       "    }\n",
       "\n",
       "    .dataframe thead th {\n",
       "        text-align: right;\n",
       "    }\n",
       "</style>\n",
       "<table border=\"1\" class=\"dataframe\">\n",
       "  <thead>\n",
       "    <tr style=\"text-align: right;\">\n",
       "      <th></th>\n",
       "      <th>gender</th>\n",
       "      <th>age</th>\n",
       "      <th>hypertension</th>\n",
       "      <th>heart_disease</th>\n",
       "      <th>ever_married</th>\n",
       "      <th>work_type</th>\n",
       "      <th>Residence_type</th>\n",
       "      <th>avg_glucose_level</th>\n",
       "      <th>bmi</th>\n",
       "      <th>smoking_status</th>\n",
       "      <th>missing bmi</th>\n",
       "      <th>age_category</th>\n",
       "      <th>glucose_category</th>\n",
       "      <th>bmi_category</th>\n",
       "    </tr>\n",
       "  </thead>\n",
       "  <tbody>\n",
       "    <tr>\n",
       "      <th>4394</th>\n",
       "      <td>0</td>\n",
       "      <td>22.0</td>\n",
       "      <td>0</td>\n",
       "      <td>0</td>\n",
       "      <td>1</td>\n",
       "      <td>1</td>\n",
       "      <td>0</td>\n",
       "      <td>73.94</td>\n",
       "      <td>24.8</td>\n",
       "      <td>4</td>\n",
       "      <td>False</td>\n",
       "      <td>Young Adult</td>\n",
       "      <td>Low</td>\n",
       "      <td>Normal</td>\n",
       "    </tr>\n",
       "    <tr>\n",
       "      <th>1781</th>\n",
       "      <td>0</td>\n",
       "      <td>39.0</td>\n",
       "      <td>0</td>\n",
       "      <td>0</td>\n",
       "      <td>1</td>\n",
       "      <td>1</td>\n",
       "      <td>1</td>\n",
       "      <td>92.82</td>\n",
       "      <td>37.4</td>\n",
       "      <td>3</td>\n",
       "      <td>False</td>\n",
       "      <td>Adult</td>\n",
       "      <td>Normal</td>\n",
       "      <td>Obese</td>\n",
       "    </tr>\n",
       "    <tr>\n",
       "      <th>3290</th>\n",
       "      <td>0</td>\n",
       "      <td>56.0</td>\n",
       "      <td>0</td>\n",
       "      <td>0</td>\n",
       "      <td>1</td>\n",
       "      <td>1</td>\n",
       "      <td>0</td>\n",
       "      <td>163.02</td>\n",
       "      <td>29.6</td>\n",
       "      <td>3</td>\n",
       "      <td>False</td>\n",
       "      <td>Adult</td>\n",
       "      <td>High</td>\n",
       "      <td>Overweight</td>\n",
       "    </tr>\n",
       "    <tr>\n",
       "      <th>934</th>\n",
       "      <td>0</td>\n",
       "      <td>52.0</td>\n",
       "      <td>0</td>\n",
       "      <td>0</td>\n",
       "      <td>1</td>\n",
       "      <td>2</td>\n",
       "      <td>1</td>\n",
       "      <td>113.21</td>\n",
       "      <td>38.3</td>\n",
       "      <td>3</td>\n",
       "      <td>False</td>\n",
       "      <td>Adult</td>\n",
       "      <td>Normal</td>\n",
       "      <td>Obese</td>\n",
       "    </tr>\n",
       "    <tr>\n",
       "      <th>1141</th>\n",
       "      <td>1</td>\n",
       "      <td>57.0</td>\n",
       "      <td>0</td>\n",
       "      <td>0</td>\n",
       "      <td>1</td>\n",
       "      <td>1</td>\n",
       "      <td>0</td>\n",
       "      <td>90.06</td>\n",
       "      <td>29.8</td>\n",
       "      <td>4</td>\n",
       "      <td>False</td>\n",
       "      <td>Adult</td>\n",
       "      <td>Normal</td>\n",
       "      <td>Overweight</td>\n",
       "    </tr>\n",
       "  </tbody>\n",
       "</table>\n",
       "</div>"
      ],
      "text/plain": [
       "      gender   age  hypertension  heart_disease  ever_married  work_type  \\\n",
       "4394       0  22.0             0              0             1          1   \n",
       "1781       0  39.0             0              0             1          1   \n",
       "3290       0  56.0             0              0             1          1   \n",
       "934        0  52.0             0              0             1          2   \n",
       "1141       1  57.0             0              0             1          1   \n",
       "\n",
       "      Residence_type  avg_glucose_level   bmi  smoking_status  missing bmi  \\\n",
       "4394               0              73.94  24.8               4        False   \n",
       "1781               1              92.82  37.4               3        False   \n",
       "3290               0             163.02  29.6               3        False   \n",
       "934                1             113.21  38.3               3        False   \n",
       "1141               0              90.06  29.8               4        False   \n",
       "\n",
       "     age_category glucose_category bmi_category  \n",
       "4394  Young Adult              Low       Normal  \n",
       "1781        Adult           Normal        Obese  \n",
       "3290        Adult             High   Overweight  \n",
       "934         Adult           Normal        Obese  \n",
       "1141        Adult           Normal   Overweight  "
      ]
     },
     "execution_count": 179,
     "metadata": {},
     "output_type": "execute_result"
    }
   ],
   "source": [
    "# Binning continuous features for better categorization\n",
    "X_test['age_category'] = pd.cut(X_test['age'], bins=[0, 18, 35, 60, 100], labels=['Child', 'Young Adult', 'Adult', 'Senior'])\n",
    "X_test['glucose_category'] = pd.cut(X_test['avg_glucose_level'], bins=[0, 90, 140, 200, 500], labels=['Low', 'Normal', 'High', 'Very High'])\n",
    "X_test['bmi_category'] = pd.cut(X_test['bmi'], bins=[0, 18.5, 25, 30, 100], labels=['Underweight', 'Normal', 'Overweight', 'Obese'])\n",
    "\n",
    "# Display the first few rows of the modified DataFrame\n",
    "X_test.head()"
   ]
  },
  {
   "cell_type": "code",
   "execution_count": 180,
   "id": "580cd614",
   "metadata": {},
   "outputs": [],
   "source": [
    "X_train_sam['age_category'] = X_train_sam['age_category'].map({\n",
    "'Senior' : 4, \n",
    "'Adult' : 3,\n",
    "'Young Adult' : 2,\n",
    "'Child' : 1\n",
    "})"
   ]
  },
  {
   "cell_type": "code",
   "execution_count": 181,
   "id": "a9236283",
   "metadata": {},
   "outputs": [],
   "source": [
    "X_train_sam['glucose_category'] = X_train_sam['glucose_category'].map({\n",
    "'Low' : 1,\n",
    "'Normal' : 2,\n",
    "'High' : 3,\n",
    "'Very High' : 4\n",
    "})"
   ]
  },
  {
   "cell_type": "code",
   "execution_count": 182,
   "id": "9fee4687",
   "metadata": {},
   "outputs": [],
   "source": [
    "X_train_sam['bmi_category'] = X_train_sam['bmi_category'].map({\n",
    "    'Underweight' : 1,\n",
    "    'Normal' : 2,\n",
    "    'Overweight' : 3,\n",
    "    'Obese' : 4\n",
    "            })"
   ]
  },
  {
   "cell_type": "code",
   "execution_count": 183,
   "id": "4fb2d5fd",
   "metadata": {},
   "outputs": [],
   "source": [
    "X_test['age_category'] = X_test['age_category'].map({\n",
    "'Senior' : 4, \n",
    "'Adult' : 3,\n",
    "'Young Adult' : 2,\n",
    "'Child' : 1\n",
    "})"
   ]
  },
  {
   "cell_type": "code",
   "execution_count": 184,
   "id": "2b7bc1da",
   "metadata": {},
   "outputs": [],
   "source": [
    "X_test['glucose_category'] = X_test['glucose_category'].map({\n",
    "'Low' : 1,\n",
    "'Normal' : 2,\n",
    "'High' : 3,\n",
    "'Very High' : 4\n",
    "})"
   ]
  },
  {
   "cell_type": "code",
   "execution_count": 185,
   "id": "7a6266b2",
   "metadata": {},
   "outputs": [],
   "source": [
    "X_test['bmi_category'] = X_test['bmi_category'].map({\n",
    "    'Underweight' : 1,\n",
    "    'Normal' : 2,\n",
    "    'Overweight' : 3,\n",
    "    'Obese' : 4\n",
    "            })"
   ]
  },
  {
   "cell_type": "code",
   "execution_count": 188,
   "id": "76b4f883",
   "metadata": {},
   "outputs": [
    {
     "data": {
      "text/html": [
       "<div>\n",
       "<style scoped>\n",
       "    .dataframe tbody tr th:only-of-type {\n",
       "        vertical-align: middle;\n",
       "    }\n",
       "\n",
       "    .dataframe tbody tr th {\n",
       "        vertical-align: top;\n",
       "    }\n",
       "\n",
       "    .dataframe thead th {\n",
       "        text-align: right;\n",
       "    }\n",
       "</style>\n",
       "<table border=\"1\" class=\"dataframe\">\n",
       "  <thead>\n",
       "    <tr style=\"text-align: right;\">\n",
       "      <th></th>\n",
       "      <th>gender</th>\n",
       "      <th>age</th>\n",
       "      <th>hypertension</th>\n",
       "      <th>heart_disease</th>\n",
       "      <th>ever_married</th>\n",
       "      <th>work_type</th>\n",
       "      <th>Residence_type</th>\n",
       "      <th>avg_glucose_level</th>\n",
       "      <th>bmi</th>\n",
       "      <th>smoking_status</th>\n",
       "      <th>missing bmi</th>\n",
       "      <th>age_category</th>\n",
       "      <th>glucose_category</th>\n",
       "      <th>bmi_category</th>\n",
       "    </tr>\n",
       "  </thead>\n",
       "  <tbody>\n",
       "    <tr>\n",
       "      <th>0</th>\n",
       "      <td>1</td>\n",
       "      <td>80.0</td>\n",
       "      <td>0</td>\n",
       "      <td>0</td>\n",
       "      <td>0</td>\n",
       "      <td>2</td>\n",
       "      <td>0</td>\n",
       "      <td>204.17</td>\n",
       "      <td>41.3</td>\n",
       "      <td>1</td>\n",
       "      <td>False</td>\n",
       "      <td>4</td>\n",
       "      <td>4</td>\n",
       "      <td>4</td>\n",
       "    </tr>\n",
       "    <tr>\n",
       "      <th>1</th>\n",
       "      <td>0</td>\n",
       "      <td>80.0</td>\n",
       "      <td>1</td>\n",
       "      <td>0</td>\n",
       "      <td>0</td>\n",
       "      <td>1</td>\n",
       "      <td>1</td>\n",
       "      <td>66.03</td>\n",
       "      <td>35.4</td>\n",
       "      <td>3</td>\n",
       "      <td>False</td>\n",
       "      <td>4</td>\n",
       "      <td>1</td>\n",
       "      <td>4</td>\n",
       "    </tr>\n",
       "    <tr>\n",
       "      <th>2</th>\n",
       "      <td>1</td>\n",
       "      <td>70.0</td>\n",
       "      <td>1</td>\n",
       "      <td>0</td>\n",
       "      <td>1</td>\n",
       "      <td>2</td>\n",
       "      <td>1</td>\n",
       "      <td>251.60</td>\n",
       "      <td>27.1</td>\n",
       "      <td>3</td>\n",
       "      <td>False</td>\n",
       "      <td>4</td>\n",
       "      <td>4</td>\n",
       "      <td>3</td>\n",
       "    </tr>\n",
       "    <tr>\n",
       "      <th>3</th>\n",
       "      <td>0</td>\n",
       "      <td>24.0</td>\n",
       "      <td>0</td>\n",
       "      <td>0</td>\n",
       "      <td>0</td>\n",
       "      <td>1</td>\n",
       "      <td>1</td>\n",
       "      <td>65.44</td>\n",
       "      <td>23.6</td>\n",
       "      <td>3</td>\n",
       "      <td>False</td>\n",
       "      <td>2</td>\n",
       "      <td>1</td>\n",
       "      <td>2</td>\n",
       "    </tr>\n",
       "    <tr>\n",
       "      <th>4</th>\n",
       "      <td>0</td>\n",
       "      <td>72.0</td>\n",
       "      <td>0</td>\n",
       "      <td>0</td>\n",
       "      <td>1</td>\n",
       "      <td>4</td>\n",
       "      <td>0</td>\n",
       "      <td>118.22</td>\n",
       "      <td>21.9</td>\n",
       "      <td>1</td>\n",
       "      <td>False</td>\n",
       "      <td>4</td>\n",
       "      <td>2</td>\n",
       "      <td>2</td>\n",
       "    </tr>\n",
       "  </tbody>\n",
       "</table>\n",
       "</div>"
      ],
      "text/plain": [
       "   gender   age  hypertension  heart_disease  ever_married  work_type  \\\n",
       "0       1  80.0             0              0             0          2   \n",
       "1       0  80.0             1              0             0          1   \n",
       "2       1  70.0             1              0             1          2   \n",
       "3       0  24.0             0              0             0          1   \n",
       "4       0  72.0             0              0             1          4   \n",
       "\n",
       "   Residence_type  avg_glucose_level   bmi  smoking_status  missing bmi  \\\n",
       "0               0             204.17  41.3               1        False   \n",
       "1               1              66.03  35.4               3        False   \n",
       "2               1             251.60  27.1               3        False   \n",
       "3               1              65.44  23.6               3        False   \n",
       "4               0             118.22  21.9               1        False   \n",
       "\n",
       "  age_category glucose_category bmi_category  \n",
       "0            4                4            4  \n",
       "1            4                1            4  \n",
       "2            4                4            3  \n",
       "3            2                1            2  \n",
       "4            4                2            2  "
      ]
     },
     "execution_count": 188,
     "metadata": {},
     "output_type": "execute_result"
    }
   ],
   "source": [
    "X_train_sam.head()"
   ]
  },
  {
   "cell_type": "code",
   "execution_count": 189,
   "id": "f9aba2b6",
   "metadata": {},
   "outputs": [],
   "source": [
    "X_train_sam.drop(columns=['age','avg_glucose_level','bmi'],inplace=True)\n",
    "X_test.drop(columns=['age','avg_glucose_level','bmi'],inplace=True)"
   ]
  },
  {
   "cell_type": "code",
   "execution_count": 190,
   "id": "41c638a0",
   "metadata": {},
   "outputs": [],
   "source": [
    "# Instantiate the scaler\n",
    "SS = StandardScaler()\n",
    "\n",
    "# Fit the scaler and transform both data subsets\n",
    "X_train_ss = SS.fit_transform(X_train_sam)\n",
    "X_test_ss = SS.transform(X_test)"
   ]
  },
  {
   "cell_type": "code",
   "execution_count": 191,
   "id": "8c63c61d",
   "metadata": {},
   "outputs": [
    {
     "name": "stdout",
     "output_type": "stream",
     "text": [
      "(7778, 11) (1022, 11) (7778,) (1022,)\n"
     ]
    }
   ],
   "source": [
    "print(X_train_ss.shape, X_test_ss.shape, y_train_sam.shape, y_test.shape)"
   ]
  },
  {
   "cell_type": "code",
   "execution_count": 192,
   "id": "db1260ff",
   "metadata": {},
   "outputs": [
    {
     "name": "stdout",
     "output_type": "stream",
     "text": [
      "(4088, 14) (1022, 11) (4088,) (1022,)\n"
     ]
    }
   ],
   "source": [
    "# Check\n",
    "print(X_train.shape, X_test.shape, y_train.shape, y_test.shape)"
   ]
  },
  {
   "cell_type": "code",
   "execution_count": 193,
   "id": "f2743535",
   "metadata": {},
   "outputs": [],
   "source": [
    "import time"
   ]
  },
  {
   "cell_type": "code",
   "execution_count": 194,
   "id": "eff2e921",
   "metadata": {},
   "outputs": [
    {
     "name": "stdout",
     "output_type": "stream",
     "text": [
      "Runtime: 0.15 seconds\n"
     ]
    }
   ],
   "source": [
    "start = time.time()\n",
    "\n",
    "# Empty lists to append the training and test accuracy scores to\n",
    "train_acc_ss = []\n",
    "test_acc_ss = []\n",
    "\n",
    "# The C_values to try\n",
    "C_values = [0.00001, 0.0001, 0.001, 0.01, 0.1, 1, 10, 100, 1000, 10000]\n",
    "# Loop through the same C values\n",
    "for C in C_values:\n",
    "\n",
    "    # Instantiate the model\n",
    "    logit=LogisticRegression(C=C, max_iter=1000, random_state=42)\n",
    "\n",
    "    # Fit the model\n",
    "    logit.fit(X_train_ss, y_train_sam)\n",
    "\n",
    "    # Score the model\n",
    "    train_acc_ss.append(logit.score(X_train_ss, y_train_sam))\n",
    "    test_acc_ss.append(logit.score(X_test_ss, y_test))\n",
    "\n",
    "stop = time.time()\n",
    "runtime_logit_ss = stop-start\n",
    "print(f\"Runtime: {round(runtime_logit_ss,2)} seconds\")"
   ]
  },
  {
   "cell_type": "code",
   "execution_count": 195,
   "id": "bed5241f",
   "metadata": {},
   "outputs": [
    {
     "data": {
      "image/png": "[encoded data removed]",
      "text/plain": [
       "<Figure size 432x288 with 1 Axes>"
      ]
     },
     "metadata": {
      "needs_background": "light"
     },
     "output_type": "display_data"
    }
   ],
   "source": [
    "\n",
    "# Plotting the train and test scores for every C value\n",
    "plt.figure()\n",
    "plt.plot(C_values, train_acc_ss, c='red', label='train')\n",
    "plt.plot(C_values, test_acc_ss, c='blue', label='test')\n",
    "plt.xscale('log')\n",
    "plt.xlabel('C-values')\n",
    "plt.ylabel('Accuracy score')\n",
    "plt.legend()\n",
    "plt.show()"
   ]
  },
  {
   "cell_type": "markdown",
   "id": "7c48c7a4",
   "metadata": {},
   "source": [
    "In this instance, our best Logistic Regression model was at C equal to 0.01 We can see clearly the tell-tale elbow which indicates the bulk of learning has been completed and a point beyond which overfitting might be a concern. Let's take a look at the model's performance:"
   ]
  },
  {
   "cell_type": "code",
   "execution_count": 200,
   "id": "9c5fa7ca",
   "metadata": {},
   "outputs": [
    {
     "name": "stdout",
     "output_type": "stream",
     "text": [
      "Train Accuracy: 0.8130624839290306\n",
      "Test Accuracy: 0.7749510763209393\n"
     ]
    }
   ],
   "source": [
    "# The Logistic Regression that performed the best on the standardized data\n",
    "# Instantiate the model\n",
    "logit_ss = LogisticRegression(C=0.001, random_state=42)\n",
    "\n",
    "# Fit the model\n",
    "logit_ss.fit(X_train_ss, y_train_sam)\n",
    "\n",
    "# Store accuracy scores\n",
    "logit_ss_train = logit_ss.score(X_train_ss, y_train_sam)\n",
    "logit_ss_test = logit_ss.score(X_test_ss, y_test)\n",
    "\n",
    "# Score the model\n",
    "print(f\"Train Accuracy: {logit_ss_train}\")\n",
    "print(f\"Test Accuracy: {logit_ss_test}\")"
   ]
  },
  {
   "cell_type": "code",
   "execution_count": 201,
   "id": "0d2ebf14",
   "metadata": {},
   "outputs": [
    {
     "name": "stdout",
     "output_type": "stream",
     "text": [
      "(7778, 11) (1022, 11) (7778,) (1022,)\n"
     ]
    }
   ],
   "source": [
    "print(X_train_ss.shape, X_test_ss.shape, y_train_sam.shape, y_test.shape)"
   ]
  },
  {
   "cell_type": "code",
   "execution_count": null,
   "id": "b21bd6ec",
   "metadata": {},
   "outputs": [],
   "source": []
  },
  {
   "cell_type": "markdown",
   "id": "cec599ae",
   "metadata": {},
   "source": [
    "##### Roc curve"
   ]
  },
  {
   "cell_type": "code",
   "execution_count": 202,
   "id": "39e1894f",
   "metadata": {},
   "outputs": [],
   "source": [
    "from sklearn.metrics import roc_curve"
   ]
  },
  {
   "cell_type": "code",
   "execution_count": 203,
   "id": "295fd607",
   "metadata": {},
   "outputs": [
    {
     "data": {
      "image/png": "[encoded data removed]",
      "text/plain": [
       "<Figure size 432x288 with 1 Axes>"
      ]
     },
     "metadata": {
      "needs_background": "light"
     },
     "output_type": "display_data"
    }
   ],
   "source": [
    "model = LogisticRegression()\n",
    "model.fit(X_train_ss, y_train_sam)\n",
    "y_pred_proba = model.predict_proba(X_test_ss)\n",
    "fpr, tpr, thresholds = roc_curve(y_test, y_pred_proba[:,1])\n",
    "\n",
    "plt.plot(fpr, tpr)\n",
    "plt.plot([0, 1], [0, 1], linestyle='--')\n",
    "plt.xlim([0.0, 1.0])\n",
    "plt.ylim([0.0, 1.0])\n",
    "plt.xlabel('1 - specificity')\n",
    "plt.ylabel('sensitivity')\n",
    "plt.show()"
   ]
  },
  {
   "cell_type": "code",
   "execution_count": 204,
   "id": "efb41004",
   "metadata": {},
   "outputs": [
    {
     "data": {
      "image/png": "[encoded data removed]",
      "text/plain": [
       "<Figure size 720x432 with 1 Axes>"
      ]
     },
     "metadata": {
      "needs_background": "light"
     },
     "output_type": "display_data"
    }
   ],
   "source": [
    "# Assuming logistic_regression_model is your trained logistic regression model\n",
    "coefficients = logit_ss.coef_[0]  # Extracting the coefficients\n",
    "\n",
    "# Creating an index for each coefficient\n",
    "feature_index = np.arange(len(coefficients))\n",
    "\n",
    "# Plotting\n",
    "plt.figure(figsize=(10, 6))\n",
    "plt.scatter(feature_index, coefficients, color='blue')\n",
    "plt.title('Scatter Plot of Logistic Regression Coefficients')\n",
    "plt.xlabel('Feature Index')\n",
    "plt.ylabel('Coefficient Value')\n",
    "plt.grid(True)\n",
    "plt.show()"
   ]
  },
  {
   "cell_type": "markdown",
   "id": "09ff58c6",
   "metadata": {},
   "source": [
    "### as above we can see the most effective feature is age"
   ]
  },
  {
   "cell_type": "code",
   "execution_count": 205,
   "id": "f0dc9e39",
   "metadata": {},
   "outputs": [
    {
     "data": {
      "text/plain": [
       "array([-0.24176772, -0.07120733, -0.07231894, -0.07655199, -0.15204171,\n",
       "       -0.2491515 , -0.28224273,  0.37977628,  0.67838411,  0.22196935,\n",
       "        0.0930659 ])"
      ]
     },
     "execution_count": 205,
     "metadata": {},
     "output_type": "execute_result"
    }
   ],
   "source": [
    "coefficients"
   ]
  },
  {
   "cell_type": "code",
   "execution_count": 206,
   "id": "869b6bbf",
   "metadata": {},
   "outputs": [
    {
     "data": {
      "text/plain": [
       "array([[-0.24176772, -0.07120733, -0.07231894, -0.07655199, -0.15204171,\n",
       "        -0.2491515 , -0.28224273,  0.37977628,  0.67838411,  0.22196935,\n",
       "         0.0930659 ]])"
      ]
     },
     "execution_count": 206,
     "metadata": {},
     "output_type": "execute_result"
    }
   ],
   "source": [
    "logit_ss.coef_"
   ]
  },
  {
   "cell_type": "code",
   "execution_count": 207,
   "id": "069844c4",
   "metadata": {},
   "outputs": [
    {
     "data": {
      "text/html": [
       "<div>\n",
       "<style scoped>\n",
       "    .dataframe tbody tr th:only-of-type {\n",
       "        vertical-align: middle;\n",
       "    }\n",
       "\n",
       "    .dataframe tbody tr th {\n",
       "        vertical-align: top;\n",
       "    }\n",
       "\n",
       "    .dataframe thead th {\n",
       "        text-align: right;\n",
       "    }\n",
       "</style>\n",
       "<table border=\"1\" class=\"dataframe\">\n",
       "  <thead>\n",
       "    <tr style=\"text-align: right;\">\n",
       "      <th></th>\n",
       "      <th>gender</th>\n",
       "      <th>age</th>\n",
       "      <th>hypertension</th>\n",
       "      <th>heart_disease</th>\n",
       "      <th>ever_married</th>\n",
       "      <th>work_type</th>\n",
       "      <th>Residence_type</th>\n",
       "      <th>avg_glucose_level</th>\n",
       "      <th>bmi</th>\n",
       "      <th>smoking_status</th>\n",
       "      <th>stroke</th>\n",
       "      <th>missing bmi</th>\n",
       "      <th>age_category</th>\n",
       "      <th>glucose_category</th>\n",
       "      <th>bmi_category</th>\n",
       "    </tr>\n",
       "  </thead>\n",
       "  <tbody>\n",
       "    <tr>\n",
       "      <th>0</th>\n",
       "      <td>1</td>\n",
       "      <td>67.0</td>\n",
       "      <td>0</td>\n",
       "      <td>1</td>\n",
       "      <td>1</td>\n",
       "      <td>1</td>\n",
       "      <td>1</td>\n",
       "      <td>228.69</td>\n",
       "      <td>36.6</td>\n",
       "      <td>1</td>\n",
       "      <td>1</td>\n",
       "      <td>False</td>\n",
       "      <td>4</td>\n",
       "      <td>4</td>\n",
       "      <td>4</td>\n",
       "    </tr>\n",
       "    <tr>\n",
       "      <th>1</th>\n",
       "      <td>0</td>\n",
       "      <td>61.0</td>\n",
       "      <td>0</td>\n",
       "      <td>0</td>\n",
       "      <td>1</td>\n",
       "      <td>2</td>\n",
       "      <td>0</td>\n",
       "      <td>202.21</td>\n",
       "      <td>28.1</td>\n",
       "      <td>3</td>\n",
       "      <td>1</td>\n",
       "      <td>True</td>\n",
       "      <td>4</td>\n",
       "      <td>4</td>\n",
       "      <td>3</td>\n",
       "    </tr>\n",
       "    <tr>\n",
       "      <th>2</th>\n",
       "      <td>1</td>\n",
       "      <td>80.0</td>\n",
       "      <td>0</td>\n",
       "      <td>1</td>\n",
       "      <td>1</td>\n",
       "      <td>1</td>\n",
       "      <td>0</td>\n",
       "      <td>105.92</td>\n",
       "      <td>32.5</td>\n",
       "      <td>3</td>\n",
       "      <td>1</td>\n",
       "      <td>False</td>\n",
       "      <td>4</td>\n",
       "      <td>2</td>\n",
       "      <td>4</td>\n",
       "    </tr>\n",
       "    <tr>\n",
       "      <th>3</th>\n",
       "      <td>0</td>\n",
       "      <td>49.0</td>\n",
       "      <td>0</td>\n",
       "      <td>0</td>\n",
       "      <td>1</td>\n",
       "      <td>1</td>\n",
       "      <td>1</td>\n",
       "      <td>171.23</td>\n",
       "      <td>34.4</td>\n",
       "      <td>2</td>\n",
       "      <td>1</td>\n",
       "      <td>False</td>\n",
       "      <td>3</td>\n",
       "      <td>3</td>\n",
       "      <td>4</td>\n",
       "    </tr>\n",
       "    <tr>\n",
       "      <th>4</th>\n",
       "      <td>0</td>\n",
       "      <td>79.0</td>\n",
       "      <td>1</td>\n",
       "      <td>0</td>\n",
       "      <td>1</td>\n",
       "      <td>2</td>\n",
       "      <td>0</td>\n",
       "      <td>174.12</td>\n",
       "      <td>24.0</td>\n",
       "      <td>3</td>\n",
       "      <td>1</td>\n",
       "      <td>False</td>\n",
       "      <td>4</td>\n",
       "      <td>3</td>\n",
       "      <td>2</td>\n",
       "    </tr>\n",
       "  </tbody>\n",
       "</table>\n",
       "</div>"
      ],
      "text/plain": [
       "   gender   age  hypertension  heart_disease  ever_married  work_type  \\\n",
       "0       1  67.0             0              1             1          1   \n",
       "1       0  61.0             0              0             1          2   \n",
       "2       1  80.0             0              1             1          1   \n",
       "3       0  49.0             0              0             1          1   \n",
       "4       0  79.0             1              0             1          2   \n",
       "\n",
       "   Residence_type  avg_glucose_level   bmi  smoking_status  stroke  \\\n",
       "0               1             228.69  36.6               1       1   \n",
       "1               0             202.21  28.1               3       1   \n",
       "2               0             105.92  32.5               3       1   \n",
       "3               1             171.23  34.4               2       1   \n",
       "4               0             174.12  24.0               3       1   \n",
       "\n",
       "   missing bmi age_category glucose_category bmi_category  \n",
       "0        False            4                4            4  \n",
       "1         True            4                4            3  \n",
       "2        False            4                2            4  \n",
       "3        False            3                3            4  \n",
       "4        False            4                3            2  "
      ]
     },
     "execution_count": 207,
     "metadata": {},
     "output_type": "execute_result"
    }
   ],
   "source": [
    "df_copy1.head(5)"
   ]
  },
  {
   "cell_type": "code",
   "execution_count": 208,
   "id": "25a48471",
   "metadata": {},
   "outputs": [
    {
     "data": {
      "text/html": [
       "<div>\n",
       "<style scoped>\n",
       "    .dataframe tbody tr th:only-of-type {\n",
       "        vertical-align: middle;\n",
       "    }\n",
       "\n",
       "    .dataframe tbody tr th {\n",
       "        vertical-align: top;\n",
       "    }\n",
       "\n",
       "    .dataframe thead th {\n",
       "        text-align: right;\n",
       "    }\n",
       "</style>\n",
       "<table border=\"1\" class=\"dataframe\">\n",
       "  <thead>\n",
       "    <tr style=\"text-align: right;\">\n",
       "      <th></th>\n",
       "      <th>id</th>\n",
       "      <th>gender</th>\n",
       "      <th>age</th>\n",
       "      <th>hypertension</th>\n",
       "      <th>heart_disease</th>\n",
       "      <th>ever_married</th>\n",
       "      <th>work_type</th>\n",
       "      <th>Residence_type</th>\n",
       "      <th>avg_glucose_level</th>\n",
       "      <th>bmi</th>\n",
       "      <th>smoking_status</th>\n",
       "      <th>stroke</th>\n",
       "      <th>missing bmi</th>\n",
       "      <th>age_category</th>\n",
       "      <th>glucose_category</th>\n",
       "      <th>bmi_category</th>\n",
       "    </tr>\n",
       "  </thead>\n",
       "  <tbody>\n",
       "    <tr>\n",
       "      <th>0</th>\n",
       "      <td>9046</td>\n",
       "      <td>Male</td>\n",
       "      <td>67.0</td>\n",
       "      <td>0</td>\n",
       "      <td>1</td>\n",
       "      <td>Yes</td>\n",
       "      <td>Private</td>\n",
       "      <td>Urban</td>\n",
       "      <td>228.69</td>\n",
       "      <td>36.6</td>\n",
       "      <td>formerly smoked</td>\n",
       "      <td>1</td>\n",
       "      <td>False</td>\n",
       "      <td>Senior</td>\n",
       "      <td>Very High</td>\n",
       "      <td>Obese</td>\n",
       "    </tr>\n",
       "    <tr>\n",
       "      <th>1</th>\n",
       "      <td>51676</td>\n",
       "      <td>Female</td>\n",
       "      <td>61.0</td>\n",
       "      <td>0</td>\n",
       "      <td>0</td>\n",
       "      <td>Yes</td>\n",
       "      <td>Self-employed</td>\n",
       "      <td>Rural</td>\n",
       "      <td>202.21</td>\n",
       "      <td>28.1</td>\n",
       "      <td>never smoked</td>\n",
       "      <td>1</td>\n",
       "      <td>True</td>\n",
       "      <td>Senior</td>\n",
       "      <td>Very High</td>\n",
       "      <td>Overweight</td>\n",
       "    </tr>\n",
       "    <tr>\n",
       "      <th>2</th>\n",
       "      <td>31112</td>\n",
       "      <td>Male</td>\n",
       "      <td>80.0</td>\n",
       "      <td>0</td>\n",
       "      <td>1</td>\n",
       "      <td>Yes</td>\n",
       "      <td>Private</td>\n",
       "      <td>Rural</td>\n",
       "      <td>105.92</td>\n",
       "      <td>32.5</td>\n",
       "      <td>never smoked</td>\n",
       "      <td>1</td>\n",
       "      <td>False</td>\n",
       "      <td>Senior</td>\n",
       "      <td>Normal</td>\n",
       "      <td>Obese</td>\n",
       "    </tr>\n",
       "    <tr>\n",
       "      <th>3</th>\n",
       "      <td>60182</td>\n",
       "      <td>Female</td>\n",
       "      <td>49.0</td>\n",
       "      <td>0</td>\n",
       "      <td>0</td>\n",
       "      <td>Yes</td>\n",
       "      <td>Private</td>\n",
       "      <td>Urban</td>\n",
       "      <td>171.23</td>\n",
       "      <td>34.4</td>\n",
       "      <td>smokes</td>\n",
       "      <td>1</td>\n",
       "      <td>False</td>\n",
       "      <td>Adult</td>\n",
       "      <td>High</td>\n",
       "      <td>Obese</td>\n",
       "    </tr>\n",
       "    <tr>\n",
       "      <th>4</th>\n",
       "      <td>1665</td>\n",
       "      <td>Female</td>\n",
       "      <td>79.0</td>\n",
       "      <td>1</td>\n",
       "      <td>0</td>\n",
       "      <td>Yes</td>\n",
       "      <td>Self-employed</td>\n",
       "      <td>Rural</td>\n",
       "      <td>174.12</td>\n",
       "      <td>24.0</td>\n",
       "      <td>never smoked</td>\n",
       "      <td>1</td>\n",
       "      <td>False</td>\n",
       "      <td>Senior</td>\n",
       "      <td>High</td>\n",
       "      <td>Normal</td>\n",
       "    </tr>\n",
       "  </tbody>\n",
       "</table>\n",
       "</div>"
      ],
      "text/plain": [
       "      id  gender   age  hypertension  heart_disease ever_married  \\\n",
       "0   9046    Male  67.0             0              1          Yes   \n",
       "1  51676  Female  61.0             0              0          Yes   \n",
       "2  31112    Male  80.0             0              1          Yes   \n",
       "3  60182  Female  49.0             0              0          Yes   \n",
       "4   1665  Female  79.0             1              0          Yes   \n",
       "\n",
       "       work_type Residence_type  avg_glucose_level   bmi   smoking_status  \\\n",
       "0        Private          Urban             228.69  36.6  formerly smoked   \n",
       "1  Self-employed          Rural             202.21  28.1     never smoked   \n",
       "2        Private          Rural             105.92  32.5     never smoked   \n",
       "3        Private          Urban             171.23  34.4           smokes   \n",
       "4  Self-employed          Rural             174.12  24.0     never smoked   \n",
       "\n",
       "   stroke  missing bmi age_category glucose_category bmi_category  \n",
       "0       1        False       Senior        Very High        Obese  \n",
       "1       1         True       Senior        Very High   Overweight  \n",
       "2       1        False       Senior           Normal        Obese  \n",
       "3       1        False        Adult             High        Obese  \n",
       "4       1        False       Senior             High       Normal  "
      ]
     },
     "execution_count": 208,
     "metadata": {},
     "output_type": "execute_result"
    }
   ],
   "source": [
    "df.head(5)"
   ]
  },
  {
   "cell_type": "code",
   "execution_count": null,
   "id": "a0becac1",
   "metadata": {},
   "outputs": [],
   "source": []
  },
  {
   "cell_type": "code",
   "execution_count": 209,
   "id": "ceba5789",
   "metadata": {},
   "outputs": [
    {
     "data": {
      "text/plain": [
       "stroke\n",
       "0    972\n",
       "1     50\n",
       "Name: count, dtype: int64"
      ]
     },
     "metadata": {},
     "output_type": "display_data"
    },
    {
     "data": {
      "text/html": [
       "<div>\n",
       "<style scoped>\n",
       "    .dataframe tbody tr th:only-of-type {\n",
       "        vertical-align: middle;\n",
       "    }\n",
       "\n",
       "    .dataframe tbody tr th {\n",
       "        vertical-align: top;\n",
       "    }\n",
       "\n",
       "    .dataframe thead th {\n",
       "        text-align: right;\n",
       "    }\n",
       "</style>\n",
       "<table border=\"1\" class=\"dataframe\">\n",
       "  <thead>\n",
       "    <tr style=\"text-align: right;\">\n",
       "      <th></th>\n",
       "      <th>predicted 0</th>\n",
       "      <th>predicted 1</th>\n",
       "    </tr>\n",
       "  </thead>\n",
       "  <tbody>\n",
       "    <tr>\n",
       "      <th>true 0</th>\n",
       "      <td>766</td>\n",
       "      <td>206</td>\n",
       "    </tr>\n",
       "    <tr>\n",
       "      <th>true 1</th>\n",
       "      <td>24</td>\n",
       "      <td>26</td>\n",
       "    </tr>\n",
       "  </tbody>\n",
       "</table>\n",
       "</div>"
      ],
      "text/plain": [
       "        predicted 0  predicted 1\n",
       "true 0          766          206\n",
       "true 1           24           26"
      ]
     },
     "metadata": {},
     "output_type": "display_data"
    },
    {
     "name": "stdout",
     "output_type": "stream",
     "text": [
      "Recall score: 52.0%\n",
      "Precision score: 11.2%\n",
      "F1 score: 18.4%\n"
     ]
    }
   ],
   "source": [
    "# class distribution\n",
    "display(y_test.value_counts())\n",
    "\n",
    "# predict classification\n",
    "y_test_pred = logit_ss.predict(X_test_ss) # USING THE UNSAMPLED BUT SCALED TEST DATA\n",
    "\n",
    "# confusion matrix\n",
    "conmat = pd.DataFrame(\n",
    "    data = confusion_matrix(y_test, y_test_pred),\n",
    "    index = ['true 0', 'true 1'],\n",
    "    columns = ['predicted 0', 'predicted 1']\n",
    ")\n",
    "display(conmat)\n",
    "\n",
    "print(f'Recall score: {recall_score(y_test, y_test_pred)*100:0.1f}%')\n",
    "print(f'Precision score: {precision_score(y_test, y_test_pred)*100:0.1f}%')\n",
    "print(f'F1 score: {f1_score(y_test, y_test_pred)*100:0.1f}%')"
   ]
  },
  {
   "cell_type": "code",
   "execution_count": null,
   "id": "dfaf7722",
   "metadata": {},
   "outputs": [],
   "source": []
  },
  {
   "cell_type": "code",
   "execution_count": 210,
   "id": "5426ea56",
   "metadata": {},
   "outputs": [
    {
     "data": {
      "text/html": [
       "<div>\n",
       "<style scoped>\n",
       "    .dataframe tbody tr th:only-of-type {\n",
       "        vertical-align: middle;\n",
       "    }\n",
       "\n",
       "    .dataframe tbody tr th {\n",
       "        vertical-align: top;\n",
       "    }\n",
       "\n",
       "    .dataframe thead th {\n",
       "        text-align: right;\n",
       "    }\n",
       "</style>\n",
       "<table border=\"1\" class=\"dataframe\">\n",
       "  <thead>\n",
       "    <tr style=\"text-align: right;\">\n",
       "      <th></th>\n",
       "      <th>gender</th>\n",
       "      <th>age</th>\n",
       "      <th>hypertension</th>\n",
       "      <th>heart_disease</th>\n",
       "      <th>ever_married</th>\n",
       "      <th>work_type</th>\n",
       "      <th>Residence_type</th>\n",
       "      <th>avg_glucose_level</th>\n",
       "      <th>bmi</th>\n",
       "      <th>smoking_status</th>\n",
       "      <th>stroke</th>\n",
       "      <th>missing bmi</th>\n",
       "      <th>age_category</th>\n",
       "      <th>glucose_category</th>\n",
       "      <th>bmi_category</th>\n",
       "    </tr>\n",
       "  </thead>\n",
       "  <tbody>\n",
       "    <tr>\n",
       "      <th>0</th>\n",
       "      <td>1.188073</td>\n",
       "      <td>1.039513</td>\n",
       "      <td>-0.328602</td>\n",
       "      <td>4.185032</td>\n",
       "      <td>0.723884</td>\n",
       "      <td>-0.153836</td>\n",
       "      <td>0.984080</td>\n",
       "      <td>1.780170</td>\n",
       "      <td>1.062020</td>\n",
       "      <td>-0.351781</td>\n",
       "      <td>4.418381</td>\n",
       "      <td>-0.202349</td>\n",
       "      <td>0.636614</td>\n",
       "      <td>2.036140</td>\n",
       "      <td>-0.230858</td>\n",
       "    </tr>\n",
       "    <tr>\n",
       "      <th>1</th>\n",
       "      <td>-0.840344</td>\n",
       "      <td>0.779567</td>\n",
       "      <td>-0.328602</td>\n",
       "      <td>-0.238947</td>\n",
       "      <td>0.723884</td>\n",
       "      <td>0.763438</td>\n",
       "      <td>-1.016178</td>\n",
       "      <td>1.543029</td>\n",
       "      <td>-0.092500</td>\n",
       "      <td>0.581552</td>\n",
       "      <td>4.418381</td>\n",
       "      <td>4.941952</td>\n",
       "      <td>0.636614</td>\n",
       "      <td>2.036140</td>\n",
       "      <td>0.892652</td>\n",
       "    </tr>\n",
       "    <tr>\n",
       "      <th>2</th>\n",
       "      <td>1.188073</td>\n",
       "      <td>1.602729</td>\n",
       "      <td>-0.328602</td>\n",
       "      <td>4.185032</td>\n",
       "      <td>0.723884</td>\n",
       "      <td>-0.153836</td>\n",
       "      <td>-1.016178</td>\n",
       "      <td>0.542872</td>\n",
       "      <td>0.505134</td>\n",
       "      <td>0.581552</td>\n",
       "      <td>4.418381</td>\n",
       "      <td>-0.202349</td>\n",
       "      <td>0.636614</td>\n",
       "      <td>0.711547</td>\n",
       "      <td>-0.230858</td>\n",
       "    </tr>\n",
       "    <tr>\n",
       "      <th>3</th>\n",
       "      <td>-0.840344</td>\n",
       "      <td>0.259675</td>\n",
       "      <td>-0.328602</td>\n",
       "      <td>-0.238947</td>\n",
       "      <td>0.723884</td>\n",
       "      <td>-0.153836</td>\n",
       "      <td>0.984080</td>\n",
       "      <td>1.359290</td>\n",
       "      <td>0.763203</td>\n",
       "      <td>1.514885</td>\n",
       "      <td>4.418381</td>\n",
       "      <td>-0.202349</td>\n",
       "      <td>-1.099760</td>\n",
       "      <td>-1.937638</td>\n",
       "      <td>-0.230858</td>\n",
       "    </tr>\n",
       "    <tr>\n",
       "      <th>4</th>\n",
       "      <td>-0.840344</td>\n",
       "      <td>1.559405</td>\n",
       "      <td>3.043196</td>\n",
       "      <td>-0.238947</td>\n",
       "      <td>0.723884</td>\n",
       "      <td>0.763438</td>\n",
       "      <td>-1.016178</td>\n",
       "      <td>1.367436</td>\n",
       "      <td>-0.649386</td>\n",
       "      <td>0.581552</td>\n",
       "      <td>4.418381</td>\n",
       "      <td>-0.202349</td>\n",
       "      <td>0.636614</td>\n",
       "      <td>-1.937638</td>\n",
       "      <td>-1.354368</td>\n",
       "    </tr>\n",
       "  </tbody>\n",
       "</table>\n",
       "</div>"
      ],
      "text/plain": [
       "     gender       age  hypertension  heart_disease  ever_married  work_type  \\\n",
       "0  1.188073  1.039513     -0.328602       4.185032      0.723884  -0.153836   \n",
       "1 -0.840344  0.779567     -0.328602      -0.238947      0.723884   0.763438   \n",
       "2  1.188073  1.602729     -0.328602       4.185032      0.723884  -0.153836   \n",
       "3 -0.840344  0.259675     -0.328602      -0.238947      0.723884  -0.153836   \n",
       "4 -0.840344  1.559405      3.043196      -0.238947      0.723884   0.763438   \n",
       "\n",
       "   Residence_type  avg_glucose_level       bmi  smoking_status    stroke  \\\n",
       "0        0.984080           1.780170  1.062020       -0.351781  4.418381   \n",
       "1       -1.016178           1.543029 -0.092500        0.581552  4.418381   \n",
       "2       -1.016178           0.542872  0.505134        0.581552  4.418381   \n",
       "3        0.984080           1.359290  0.763203        1.514885  4.418381   \n",
       "4       -1.016178           1.367436 -0.649386        0.581552  4.418381   \n",
       "\n",
       "   missing bmi  age_category  glucose_category  bmi_category  \n",
       "0    -0.202349      0.636614          2.036140     -0.230858  \n",
       "1     4.941952      0.636614          2.036140      0.892652  \n",
       "2    -0.202349      0.636614          0.711547     -0.230858  \n",
       "3    -0.202349     -1.099760         -1.937638     -0.230858  \n",
       "4    -0.202349      0.636614         -1.937638     -1.354368  "
      ]
     },
     "execution_count": 210,
     "metadata": {},
     "output_type": "execute_result"
    }
   ],
   "source": [
    "df_copy.head()"
   ]
  },
  {
   "cell_type": "code",
   "execution_count": 211,
   "id": "b72d723c",
   "metadata": {},
   "outputs": [
    {
     "data": {
      "text/html": [
       "<div>\n",
       "<style scoped>\n",
       "    .dataframe tbody tr th:only-of-type {\n",
       "        vertical-align: middle;\n",
       "    }\n",
       "\n",
       "    .dataframe tbody tr th {\n",
       "        vertical-align: top;\n",
       "    }\n",
       "\n",
       "    .dataframe thead th {\n",
       "        text-align: right;\n",
       "    }\n",
       "</style>\n",
       "<table border=\"1\" class=\"dataframe\">\n",
       "  <thead>\n",
       "    <tr style=\"text-align: right;\">\n",
       "      <th></th>\n",
       "      <th>gender</th>\n",
       "      <th>age</th>\n",
       "      <th>hypertension</th>\n",
       "      <th>heart_disease</th>\n",
       "      <th>ever_married</th>\n",
       "      <th>work_type</th>\n",
       "      <th>Residence_type</th>\n",
       "      <th>avg_glucose_level</th>\n",
       "      <th>bmi</th>\n",
       "      <th>smoking_status</th>\n",
       "      <th>stroke</th>\n",
       "      <th>missing bmi</th>\n",
       "      <th>age_category</th>\n",
       "      <th>glucose_category</th>\n",
       "      <th>bmi_category</th>\n",
       "    </tr>\n",
       "  </thead>\n",
       "  <tbody>\n",
       "    <tr>\n",
       "      <th>0</th>\n",
       "      <td>1</td>\n",
       "      <td>67.0</td>\n",
       "      <td>0</td>\n",
       "      <td>1</td>\n",
       "      <td>1</td>\n",
       "      <td>1</td>\n",
       "      <td>1</td>\n",
       "      <td>228.69</td>\n",
       "      <td>36.6</td>\n",
       "      <td>1</td>\n",
       "      <td>1</td>\n",
       "      <td>False</td>\n",
       "      <td>4</td>\n",
       "      <td>4</td>\n",
       "      <td>4</td>\n",
       "    </tr>\n",
       "    <tr>\n",
       "      <th>1</th>\n",
       "      <td>0</td>\n",
       "      <td>61.0</td>\n",
       "      <td>0</td>\n",
       "      <td>0</td>\n",
       "      <td>1</td>\n",
       "      <td>2</td>\n",
       "      <td>0</td>\n",
       "      <td>202.21</td>\n",
       "      <td>28.1</td>\n",
       "      <td>3</td>\n",
       "      <td>1</td>\n",
       "      <td>True</td>\n",
       "      <td>4</td>\n",
       "      <td>4</td>\n",
       "      <td>3</td>\n",
       "    </tr>\n",
       "    <tr>\n",
       "      <th>2</th>\n",
       "      <td>1</td>\n",
       "      <td>80.0</td>\n",
       "      <td>0</td>\n",
       "      <td>1</td>\n",
       "      <td>1</td>\n",
       "      <td>1</td>\n",
       "      <td>0</td>\n",
       "      <td>105.92</td>\n",
       "      <td>32.5</td>\n",
       "      <td>3</td>\n",
       "      <td>1</td>\n",
       "      <td>False</td>\n",
       "      <td>4</td>\n",
       "      <td>2</td>\n",
       "      <td>4</td>\n",
       "    </tr>\n",
       "    <tr>\n",
       "      <th>3</th>\n",
       "      <td>0</td>\n",
       "      <td>49.0</td>\n",
       "      <td>0</td>\n",
       "      <td>0</td>\n",
       "      <td>1</td>\n",
       "      <td>1</td>\n",
       "      <td>1</td>\n",
       "      <td>171.23</td>\n",
       "      <td>34.4</td>\n",
       "      <td>2</td>\n",
       "      <td>1</td>\n",
       "      <td>False</td>\n",
       "      <td>3</td>\n",
       "      <td>3</td>\n",
       "      <td>4</td>\n",
       "    </tr>\n",
       "    <tr>\n",
       "      <th>4</th>\n",
       "      <td>0</td>\n",
       "      <td>79.0</td>\n",
       "      <td>1</td>\n",
       "      <td>0</td>\n",
       "      <td>1</td>\n",
       "      <td>2</td>\n",
       "      <td>0</td>\n",
       "      <td>174.12</td>\n",
       "      <td>24.0</td>\n",
       "      <td>3</td>\n",
       "      <td>1</td>\n",
       "      <td>False</td>\n",
       "      <td>4</td>\n",
       "      <td>3</td>\n",
       "      <td>2</td>\n",
       "    </tr>\n",
       "  </tbody>\n",
       "</table>\n",
       "</div>"
      ],
      "text/plain": [
       "   gender   age  hypertension  heart_disease  ever_married  work_type  \\\n",
       "0       1  67.0             0              1             1          1   \n",
       "1       0  61.0             0              0             1          2   \n",
       "2       1  80.0             0              1             1          1   \n",
       "3       0  49.0             0              0             1          1   \n",
       "4       0  79.0             1              0             1          2   \n",
       "\n",
       "   Residence_type  avg_glucose_level   bmi  smoking_status  stroke  \\\n",
       "0               1             228.69  36.6               1       1   \n",
       "1               0             202.21  28.1               3       1   \n",
       "2               0             105.92  32.5               3       1   \n",
       "3               1             171.23  34.4               2       1   \n",
       "4               0             174.12  24.0               3       1   \n",
       "\n",
       "   missing bmi age_category glucose_category bmi_category  \n",
       "0        False            4                4            4  \n",
       "1         True            4                4            3  \n",
       "2        False            4                2            4  \n",
       "3        False            3                3            4  \n",
       "4        False            4                3            2  "
      ]
     },
     "execution_count": 211,
     "metadata": {},
     "output_type": "execute_result"
    }
   ],
   "source": [
    "df_copy1.head()"
   ]
  },
  {
   "cell_type": "markdown",
   "id": "350e34d3",
   "metadata": {},
   "source": [
    "### KNN"
   ]
  },
  {
   "cell_type": "code",
   "execution_count": 224,
   "id": "fc8a7199",
   "metadata": {},
   "outputs": [
    {
     "name": "stdout",
     "output_type": "stream",
     "text": [
      "Runtime: 24.63 seconds\n"
     ]
    }
   ],
   "source": [
    "start = time.time()\n",
    "\n",
    "# The different K values to try out and save to 'neighbors'\n",
    "neighbors = range(1, 55, 2)\n",
    "\n",
    "# Empty lists to append the accuracies to\n",
    "train_acc_mm = []\n",
    "test_acc_mm = []\n",
    "\n",
    "# Loop through neighbors\n",
    "for K in neighbors:\n",
    "\n",
    "    # Instantiate the model\n",
    "    knn = KNeighborsClassifier(n_neighbors=K)\n",
    "\n",
    "    # Fit the model\n",
    "    knn.fit(X_train_ss, y_train_sam)\n",
    "\n",
    "    # Score the model\n",
    "    train_acc_mm.append(knn.score(X_train_ss, y_train_sam))\n",
    "    test_acc_mm.append(knn.score(X_test_ss, y_test))\n",
    "\n",
    "stop = time.time()\n",
    "runtime_knn_mm = stop-start\n",
    "print(f\"Runtime: {round(runtime_knn_mm,2)} seconds\")"
   ]
  },
  {
   "cell_type": "code",
   "execution_count": 225,
   "id": "64a7f698",
   "metadata": {},
   "outputs": [
    {
     "data": {
      "image/png": "[encoded data removed]",
      "text/plain": [
       "<Figure size 1152x576 with 1 Axes>"
      ]
     },
     "metadata": {
      "needs_background": "light"
     },
     "output_type": "display_data"
    }
   ],
   "source": [
    "# Plot the accuracies\n",
    "plt.figure(figsize=(16,8))\n",
    "plt.plot(neighbors, train_acc_mm, c='red', label='train')\n",
    "plt.plot(neighbors, test_acc_mm, c='blue', label='test')\n",
    "plt.xlabel(\"n_neighbors\")\n",
    "plt.ylabel(\"Accuracy score\")\n",
    "plt.legend()\n",
    "plt.show()"
   ]
  },
  {
   "cell_type": "markdown",
   "id": "acbb50c4",
   "metadata": {},
   "source": [
    "These plots are quite choppy so conclusions will be somewhat subjective. However, the gap between the two plots is at its narrowest at around n_neighbors = 5 and 15."
   ]
  },
  {
   "cell_type": "code",
   "execution_count": 230,
   "id": "d136eb9b",
   "metadata": {},
   "outputs": [
    {
     "name": "stdout",
     "output_type": "stream",
     "text": [
      "Train Accuracy: 0.8350475700694265\n",
      "Test Accuracy: 0.860078277886497\n"
     ]
    }
   ],
   "source": [
    "# KNN with n_neighbors=5\n",
    "# Instantiate the model\n",
    "knn_mm = KNeighborsClassifier(n_neighbors=5)\n",
    "\n",
    "# Fit the model\n",
    "knn_mm.fit(X_train_ss, y_train_sam)\n",
    "\n",
    "# Store accuracy scores\n",
    "knn_mm_train = knn_mm.score(X_train_ss, y_train_sam)\n",
    "knn_mm_test = knn_mm.score(X_test_ss, y_test)\n",
    "\n",
    "# Score the model\n",
    "print(f\"Train Accuracy: {knn_mm_train}\")\n",
    "print(f\"Test Accuracy: {knn_mm_test}\")"
   ]
  },
  {
   "cell_type": "code",
   "execution_count": 231,
   "id": "893a9d9d",
   "metadata": {},
   "outputs": [
    {
     "data": {
      "text/plain": [
       "stroke\n",
       "0    972\n",
       "1     50\n",
       "Name: count, dtype: int64"
      ]
     },
     "metadata": {},
     "output_type": "display_data"
    },
    {
     "data": {
      "text/html": [
       "<div>\n",
       "<style scoped>\n",
       "    .dataframe tbody tr th:only-of-type {\n",
       "        vertical-align: middle;\n",
       "    }\n",
       "\n",
       "    .dataframe tbody tr th {\n",
       "        vertical-align: top;\n",
       "    }\n",
       "\n",
       "    .dataframe thead th {\n",
       "        text-align: right;\n",
       "    }\n",
       "</style>\n",
       "<table border=\"1\" class=\"dataframe\">\n",
       "  <thead>\n",
       "    <tr style=\"text-align: right;\">\n",
       "      <th></th>\n",
       "      <th>predicted 0</th>\n",
       "      <th>predicted 1</th>\n",
       "    </tr>\n",
       "  </thead>\n",
       "  <tbody>\n",
       "    <tr>\n",
       "      <th>true 0</th>\n",
       "      <td>861</td>\n",
       "      <td>111</td>\n",
       "    </tr>\n",
       "    <tr>\n",
       "      <th>true 1</th>\n",
       "      <td>32</td>\n",
       "      <td>18</td>\n",
       "    </tr>\n",
       "  </tbody>\n",
       "</table>\n",
       "</div>"
      ],
      "text/plain": [
       "        predicted 0  predicted 1\n",
       "true 0          861          111\n",
       "true 1           32           18"
      ]
     },
     "metadata": {},
     "output_type": "display_data"
    },
    {
     "name": "stdout",
     "output_type": "stream",
     "text": [
      "Recall score: 36.0%\n",
      "Precision score: 14.0%\n",
      "F1 score: 20.1%\n"
     ]
    }
   ],
   "source": [
    "# class distribution\n",
    "display(y_test.value_counts())\n",
    "\n",
    "# predict classification\n",
    "y_test_pred = knn_mm.predict(X_test_ss) # USING THE UNSAMPLED BUT SCALED TEST DATA\n",
    "\n",
    "# confusion matrix\n",
    "conmat = pd.DataFrame(\n",
    "    data = confusion_matrix(y_test, y_test_pred),\n",
    "    index = ['true 0', 'true 1'],\n",
    "    columns = ['predicted 0', 'predicted 1']\n",
    ")\n",
    "display(conmat)\n",
    "\n",
    "print(f'Recall score: {recall_score(y_test, y_test_pred)*100:0.1f}%')\n",
    "print(f'Precision score: {precision_score(y_test, y_test_pred)*100:0.1f}%')\n",
    "print(f'F1 score: {f1_score(y_test, y_test_pred)*100:0.1f}%')"
   ]
  },
  {
   "cell_type": "code",
   "execution_count": null,
   "id": "0e387ffa",
   "metadata": {},
   "outputs": [],
   "source": []
  },
  {
   "cell_type": "code",
   "execution_count": 232,
   "id": "2cb8a355",
   "metadata": {},
   "outputs": [
    {
     "name": "stdout",
     "output_type": "stream",
     "text": [
      "Train Accuracy: 0.8634610439701723\n",
      "Test Accuracy: 0.7906066536203522\n"
     ]
    }
   ],
   "source": [
    "# KNN with n_neighbors=15\n",
    "# Instantiate the model\n",
    "knn_mm = KNeighborsClassifier(n_neighbors=15)\n",
    "\n",
    "# Fit the model\n",
    "knn_mm.fit(X_train_ss, y_train_sam)\n",
    "\n",
    "# Store accuracy scores\n",
    "knn_mm_train = knn_mm.score(X_train_ss, y_train_sam)\n",
    "knn_mm_test = knn_mm.score(X_test_ss, y_test)\n",
    "\n",
    "# Score the model\n",
    "print(f\"Train Accuracy: {knn_mm_train}\")\n",
    "print(f\"Test Accuracy: {knn_mm_test}\")"
   ]
  },
  {
   "cell_type": "code",
   "execution_count": 233,
   "id": "91e43f01",
   "metadata": {},
   "outputs": [
    {
     "data": {
      "text/plain": [
       "stroke\n",
       "0    972\n",
       "1     50\n",
       "Name: count, dtype: int64"
      ]
     },
     "metadata": {},
     "output_type": "display_data"
    },
    {
     "data": {
      "text/html": [
       "<div>\n",
       "<style scoped>\n",
       "    .dataframe tbody tr th:only-of-type {\n",
       "        vertical-align: middle;\n",
       "    }\n",
       "\n",
       "    .dataframe tbody tr th {\n",
       "        vertical-align: top;\n",
       "    }\n",
       "\n",
       "    .dataframe thead th {\n",
       "        text-align: right;\n",
       "    }\n",
       "</style>\n",
       "<table border=\"1\" class=\"dataframe\">\n",
       "  <thead>\n",
       "    <tr style=\"text-align: right;\">\n",
       "      <th></th>\n",
       "      <th>predicted 0</th>\n",
       "      <th>predicted 1</th>\n",
       "    </tr>\n",
       "  </thead>\n",
       "  <tbody>\n",
       "    <tr>\n",
       "      <th>true 0</th>\n",
       "      <td>786</td>\n",
       "      <td>186</td>\n",
       "    </tr>\n",
       "    <tr>\n",
       "      <th>true 1</th>\n",
       "      <td>28</td>\n",
       "      <td>22</td>\n",
       "    </tr>\n",
       "  </tbody>\n",
       "</table>\n",
       "</div>"
      ],
      "text/plain": [
       "        predicted 0  predicted 1\n",
       "true 0          786          186\n",
       "true 1           28           22"
      ]
     },
     "metadata": {},
     "output_type": "display_data"
    },
    {
     "name": "stdout",
     "output_type": "stream",
     "text": [
      "Recall score: 44.0%\n",
      "Precision score: 10.6%\n",
      "F1 score: 17.1%\n"
     ]
    }
   ],
   "source": [
    "# class distribution\n",
    "display(y_test.value_counts())\n",
    "\n",
    "# predict classification\n",
    "y_test_pred = knn_mm.predict(X_test_ss) # USING THE UNSAMPLED BUT SCALED TEST DATA\n",
    "\n",
    "# confusion matrix\n",
    "conmat = pd.DataFrame(\n",
    "    data = confusion_matrix(y_test, y_test_pred),\n",
    "    index = ['true 0', 'true 1'],\n",
    "    columns = ['predicted 0', 'predicted 1']\n",
    ")\n",
    "display(conmat)\n",
    "\n",
    "print(f'Recall score: {recall_score(y_test, y_test_pred)*100:0.1f}%')\n",
    "print(f'Precision score: {precision_score(y_test, y_test_pred)*100:0.1f}%')\n",
    "print(f'F1 score: {f1_score(y_test, y_test_pred)*100:0.1f}%')"
   ]
  },
  {
   "cell_type": "markdown",
   "id": "ed11b8eb",
   "metadata": {},
   "source": [
    "### Decision Tree"
   ]
  },
  {
   "cell_type": "code",
   "execution_count": 234,
   "id": "393458dd",
   "metadata": {},
   "outputs": [
    {
     "data": {
      "text/plain": [
       "4088"
      ]
     },
     "execution_count": 234,
     "metadata": {},
     "output_type": "execute_result"
    }
   ],
   "source": [
    "# number of rows\n",
    "X_train.shape[0]"
   ]
  },
  {
   "cell_type": "code",
   "execution_count": 235,
   "id": "cabb8cb6",
   "metadata": {},
   "outputs": [
    {
     "data": {
      "text/plain": [
       "range(1, 63)"
      ]
     },
     "execution_count": 235,
     "metadata": {},
     "output_type": "execute_result"
    }
   ],
   "source": [
    "# indicating range of max_depth values\n",
    "range(1, int(np.sqrt(X_train.shape[0])))"
   ]
  },
  {
   "cell_type": "code",
   "execution_count": 236,
   "id": "0a235f32",
   "metadata": {},
   "outputs": [
    {
     "name": "stdout",
     "output_type": "stream",
     "text": [
      "Runtime: 0.77 seconds\n"
     ]
    }
   ],
   "source": [
    "start = time.time()\n",
    "\n",
    "# A list of the maximum depths to try out and save to 'depths'\n",
    "depths = range(1, int(np.sqrt(X_train.shape[0])))\n",
    "\n",
    "# Empty lists to append to\n",
    "train_acc_ss = []\n",
    "test_acc_ss = []\n",
    "\n",
    "# Loop through the depths\n",
    "for max_depth in depths:\n",
    "\n",
    "    # Instantiate the model\n",
    "    dt = DecisionTreeClassifier(max_depth=max_depth, random_state=42)\n",
    "\n",
    "    # Fit the model\n",
    "    dt.fit(X_train_ss, y_train_sam)\n",
    "\n",
    "    # Score the model\n",
    "    train_acc_ss.append(dt.score(X_train_ss, y_train_sam))\n",
    "    test_acc_ss.append(dt.score(X_test_ss, y_test))\n",
    "\n",
    "stop = time.time()\n",
    "runtime_dt_mm = stop-start\n",
    "print(f\"Runtime: {round(runtime_dt_mm,2)} seconds\")"
   ]
  },
  {
   "cell_type": "code",
   "execution_count": 237,
   "id": "abf4dc1f",
   "metadata": {},
   "outputs": [
    {
     "data": {
      "image/png": "[encoded data removed]",
      "text/plain": [
       "<Figure size 1152x576 with 1 Axes>"
      ]
     },
     "metadata": {
      "needs_background": "light"
     },
     "output_type": "display_data"
    }
   ],
   "source": [
    "# Plot the accuracies\n",
    "plt.figure(figsize=(16,8))\n",
    "plt.plot(depths, train_acc_ss, c='red', label='train')\n",
    "plt.plot(depths, test_acc_ss, c='blue', label='test')\n",
    "plt.xlabel(\"max_depth\")\n",
    "plt.ylabel(\"Accuracy score\")\n",
    "plt.legend()\n",
    "plt.show()"
   ]
  },
  {
   "cell_type": "markdown",
   "id": "c3c99a04",
   "metadata": {},
   "source": [
    "max_depth=2 and 6 appears to be optimal."
   ]
  },
  {
   "cell_type": "code",
   "execution_count": 261,
   "id": "4b841c0a",
   "metadata": {},
   "outputs": [
    {
     "name": "stdout",
     "output_type": "stream",
     "text": [
      "Train Accuracy: 0.7566212393931602\n",
      "Test Accuracy: 0.7729941291585127\n"
     ]
    }
   ],
   "source": [
    "# Best Decision Tree Classifier on standardized data\n",
    "# Instantiate the model\n",
    "dt_ss = DecisionTreeClassifier(max_depth=2, random_state=42)\n",
    "\n",
    "# Fit the model\n",
    "dt_ss.fit(X_train_ss, y_train_sam)\n",
    "\n",
    "# Store accuracy scores\n",
    "dt_ss_train = dt_ss.score(X_train_ss, y_train_sam)\n",
    "dt_ss_test = dt_ss.score(X_test_ss, y_test)\n",
    "\n",
    "# Score the model\n",
    "print(f\"Train Accuracy: {dt_ss_train}\")\n",
    "print(f\"Test Accuracy: {dt_ss_test}\")"
   ]
  },
  {
   "cell_type": "code",
   "execution_count": 262,
   "id": "f5dc4c1b",
   "metadata": {},
   "outputs": [
    {
     "data": {
      "text/plain": [
       "stroke\n",
       "0    972\n",
       "1     50\n",
       "Name: count, dtype: int64"
      ]
     },
     "metadata": {},
     "output_type": "display_data"
    },
    {
     "data": {
      "text/html": [
       "<div>\n",
       "<style scoped>\n",
       "    .dataframe tbody tr th:only-of-type {\n",
       "        vertical-align: middle;\n",
       "    }\n",
       "\n",
       "    .dataframe tbody tr th {\n",
       "        vertical-align: top;\n",
       "    }\n",
       "\n",
       "    .dataframe thead th {\n",
       "        text-align: right;\n",
       "    }\n",
       "</style>\n",
       "<table border=\"1\" class=\"dataframe\">\n",
       "  <thead>\n",
       "    <tr style=\"text-align: right;\">\n",
       "      <th></th>\n",
       "      <th>predicted 0</th>\n",
       "      <th>predicted 1</th>\n",
       "    </tr>\n",
       "  </thead>\n",
       "  <tbody>\n",
       "    <tr>\n",
       "      <th>true 0</th>\n",
       "      <td>757</td>\n",
       "      <td>215</td>\n",
       "    </tr>\n",
       "    <tr>\n",
       "      <th>true 1</th>\n",
       "      <td>17</td>\n",
       "      <td>33</td>\n",
       "    </tr>\n",
       "  </tbody>\n",
       "</table>\n",
       "</div>"
      ],
      "text/plain": [
       "        predicted 0  predicted 1\n",
       "true 0          757          215\n",
       "true 1           17           33"
      ]
     },
     "metadata": {},
     "output_type": "display_data"
    },
    {
     "name": "stdout",
     "output_type": "stream",
     "text": [
      "Recall score: 66.0%\n",
      "Precision score: 13.3%\n",
      "F1 score: 22.1%\n"
     ]
    }
   ],
   "source": [
    "# class distribution\n",
    "display(y_test.value_counts())\n",
    "\n",
    "# predict classification\n",
    "y_test_pred = dt_ss.predict(X_test_ss) # USING THE UNSAMPLED BUT SCALED TEST DATA\n",
    "\n",
    "# confusion matrix\n",
    "conmat = pd.DataFrame(\n",
    "    data = confusion_matrix(y_test, y_test_pred),\n",
    "    index = ['true 0', 'true 1'],\n",
    "    columns = ['predicted 0', 'predicted 1']\n",
    ")\n",
    "display(conmat)\n",
    "\n",
    "print(f'Recall score: {recall_score(y_test, y_test_pred)*100:0.1f}%')\n",
    "print(f'Precision score: {precision_score(y_test, y_test_pred)*100:0.1f}%')\n",
    "print(f'F1 score: {f1_score(y_test, y_test_pred)*100:0.1f}%')"
   ]
  },
  {
   "cell_type": "code",
   "execution_count": 271,
   "id": "1c8441ed",
   "metadata": {},
   "outputs": [
    {
     "name": "stdout",
     "output_type": "stream",
     "text": [
      "Train Accuracy: 0.8241193108768321\n",
      "Test Accuracy: 0.7602739726027398\n"
     ]
    }
   ],
   "source": [
    "# Best Decision Tree Classifier on standardized data\n",
    "# Instantiate the model\n",
    "dt_ss = DecisionTreeClassifier(max_depth=6, random_state=42)\n",
    "\n",
    "# Fit the model\n",
    "dt_ss.fit(X_train_ss, y_train_sam)\n",
    "\n",
    "# Store accuracy scores\n",
    "dt_ss_train = dt_ss.score(X_train_ss, y_train_sam)\n",
    "dt_ss_test = dt_ss.score(X_test_ss, y_test)\n",
    "\n",
    "# Score the model\n",
    "print(f\"Train Accuracy: {dt_ss_train}\")\n",
    "print(f\"Test Accuracy: {dt_ss_test}\")"
   ]
  },
  {
   "cell_type": "code",
   "execution_count": 272,
   "id": "eb7a6151",
   "metadata": {},
   "outputs": [
    {
     "data": {
      "text/plain": [
       "stroke\n",
       "0    972\n",
       "1     50\n",
       "Name: count, dtype: int64"
      ]
     },
     "metadata": {},
     "output_type": "display_data"
    },
    {
     "data": {
      "text/html": [
       "<div>\n",
       "<style scoped>\n",
       "    .dataframe tbody tr th:only-of-type {\n",
       "        vertical-align: middle;\n",
       "    }\n",
       "\n",
       "    .dataframe tbody tr th {\n",
       "        vertical-align: top;\n",
       "    }\n",
       "\n",
       "    .dataframe thead th {\n",
       "        text-align: right;\n",
       "    }\n",
       "</style>\n",
       "<table border=\"1\" class=\"dataframe\">\n",
       "  <thead>\n",
       "    <tr style=\"text-align: right;\">\n",
       "      <th></th>\n",
       "      <th>predicted 0</th>\n",
       "      <th>predicted 1</th>\n",
       "    </tr>\n",
       "  </thead>\n",
       "  <tbody>\n",
       "    <tr>\n",
       "      <th>true 0</th>\n",
       "      <td>748</td>\n",
       "      <td>224</td>\n",
       "    </tr>\n",
       "    <tr>\n",
       "      <th>true 1</th>\n",
       "      <td>21</td>\n",
       "      <td>29</td>\n",
       "    </tr>\n",
       "  </tbody>\n",
       "</table>\n",
       "</div>"
      ],
      "text/plain": [
       "        predicted 0  predicted 1\n",
       "true 0          748          224\n",
       "true 1           21           29"
      ]
     },
     "metadata": {},
     "output_type": "display_data"
    },
    {
     "name": "stdout",
     "output_type": "stream",
     "text": [
      "Recall score: 58.0%\n",
      "Precision score: 11.5%\n",
      "F1 score: 19.1%\n"
     ]
    }
   ],
   "source": [
    "# class distribution\n",
    "display(y_test.value_counts())\n",
    "\n",
    "# predict classification\n",
    "y_test_pred = dt_ss.predict(X_test_ss) # USING THE UNSAMPLED BUT SCALED TEST DATA\n",
    "\n",
    "# confusion matrix\n",
    "conmat = pd.DataFrame(\n",
    "    data = confusion_matrix(y_test, y_test_pred),\n",
    "    index = ['true 0', 'true 1'],\n",
    "    columns = ['predicted 0', 'predicted 1']\n",
    ")\n",
    "display(conmat)\n",
    "\n",
    "print(f'Recall score: {recall_score(y_test, y_test_pred)*100:0.1f}%')\n",
    "print(f'Precision score: {precision_score(y_test, y_test_pred)*100:0.1f}%')\n",
    "print(f'F1 score: {f1_score(y_test, y_test_pred)*100:0.1f}%')"
   ]
  },
  {
   "cell_type": "code",
   "execution_count": null,
   "id": "e725867d",
   "metadata": {},
   "outputs": [],
   "source": []
  },
  {
   "cell_type": "code",
   "execution_count": null,
   "id": "3092b14f",
   "metadata": {},
   "outputs": [],
   "source": []
  },
  {
   "cell_type": "code",
   "execution_count": null,
   "id": "b25fd97f",
   "metadata": {},
   "outputs": [],
   "source": []
  },
  {
   "cell_type": "code",
   "execution_count": null,
   "id": "34d96671",
   "metadata": {
    "scrolled": true
   },
   "outputs": [],
   "source": []
  },
  {
   "cell_type": "code",
   "execution_count": null,
   "id": "b7692271",
   "metadata": {},
   "outputs": [],
   "source": []
  },
  {
   "cell_type": "code",
   "execution_count": null,
   "id": "e262f585",
   "metadata": {},
   "outputs": [],
   "source": []
  },
  {
   "cell_type": "code",
   "execution_count": null,
   "id": "e57c758a",
   "metadata": {},
   "outputs": [],
   "source": []
  },
  {
   "cell_type": "code",
   "execution_count": null,
   "id": "8f5ca7bd",
   "metadata": {},
   "outputs": [],
   "source": []
  },
  {
   "cell_type": "code",
   "execution_count": null,
   "id": "8799c56d",
   "metadata": {},
   "outputs": [],
   "source": []
  }
 ],
 "metadata": {
  "kernelspec": {
   "display_name": "Python 3",
   "language": "python",
   "name": "python3"
  },
  "language_info": {
   "codemirror_mode": {
    "name": "ipython",
    "version": 3
   },
   "file_extension": ".py",
   "mimetype": "text/x-python",
   "name": "python",
   "nbconvert_exporter": "python",
   "pygments_lexer": "ipython3",
   "version": "3.8.8"
  }
 },
 "nbformat": 4,
 "nbformat_minor": 5
}
